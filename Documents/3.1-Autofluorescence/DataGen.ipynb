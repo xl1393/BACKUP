{
 "cells": [
  {
   "cell_type": "code",
   "execution_count": 1,
   "metadata": {
    "collapsed": true
   },
   "outputs": [],
   "source": [
    "import numpy as np\n",
    "import cv2\n",
    "from matplotlib import pyplot as plt\n",
    "from sklearn.cluster import KMeans"
   ]
  },
  {
   "cell_type": "code",
   "execution_count": 2,
   "metadata": {
    "collapsed": true
   },
   "outputs": [],
   "source": [
    "def info(img8):\n",
    "    print img8.dtype\n",
    "    print img8.shape\n",
    "    print type(img8)\n",
    "    print np.max(img8)\n",
    "    print np.min(img8)"
   ]
  },
  {
   "cell_type": "code",
   "execution_count": 3,
   "metadata": {
    "collapsed": true
   },
   "outputs": [],
   "source": [
    "def DrawCluster(source, y, n):\n",
    "    for i in range(0,n):\n",
    "        mask = y[:,:] != i\n",
    "        temp=np.copy(source)\n",
    "        temp[mask]=0\n",
    "        cv2.imwrite('/home/xli/Documents/3.1-Autofluorescence/Data_train/cluster_number_'+str(i)+'.jp2', temp)"
   ]
  },
  {
   "cell_type": "code",
   "execution_count": null,
   "metadata": {
    "collapsed": false
   },
   "outputs": [],
   "source": [
    "testshow='/home/xli/Documents/2-filter/File1out/test-matched-median.jp2'\n",
    "imgshow=cv2.imread(testshow)"
   ]
  },
  {
   "cell_type": "code",
   "execution_count": null,
   "metadata": {
    "collapsed": false
   },
   "outputs": [],
   "source": [
    "info(imgshow)\n",
    "subshow=imgshow[4000:8000,14000:19000,:]"
   ]
  },
  {
   "cell_type": "code",
   "execution_count": null,
   "metadata": {
    "collapsed": false
   },
   "outputs": [],
   "source": [
    "plt.imshow(img[4000:8000,14000:19000,:])\n",
    "plt.show()"
   ]
  },
  {
   "cell_type": "code",
   "execution_count": null,
   "metadata": {
    "collapsed": true
   },
   "outputs": [],
   "source": [
    "testfile='/home/xli/testImages/PMD1463/PMD1464&1463-F33-2014.02.01-05.00.54_PMD1463_3_0099_lossless.jp2'\n",
    "img=cv2.imread(testfile)"
   ]
  },
  {
   "cell_type": "code",
   "execution_count": null,
   "metadata": {
    "collapsed": false
   },
   "outputs": [],
   "source": [
    "#test\n",
    "subimage=img[4000:8000,14000:19000,:]\n",
    "data=subimage.reshape([subimage.shape[0]*subimage.shape[1],3])\n",
    "y_redicted=KMeans(n_clusters = 20,max_iter=1000,tol=0.0001).fit_predict(data)\n",
    "\n",
    "y=y_redicted.reshape([subimage.shape[0], subimage.shape[1]])\n",
    "\n",
    "def DrawCluster(source, y, n):\n",
    "    for i in range(0,n):\n",
    "        mask = y[:,:] != i\n",
    "        temp=np.copy(source)\n",
    "        temp[mask]=0\n",
    "        cv2.imwrite('/home/xli/Documents/3.1-Autofluorescence/Data_train/cluster_number_'+str(i)+'.jp2', temp)\n",
    "\n",
    "DrawCluster(subshow,y,20)\n",
    "\n",
    "cv2.imwrite('/home/xli/Documents/3.1-Autofluorescence/Data_train/source.jp2', subimage)"
   ]
  },
  {
   "cell_type": "code",
   "execution_count": 4,
   "metadata": {
    "collapsed": true
   },
   "outputs": [],
   "source": [
    "#generate training data:\n",
    "testfile='/home/xli/testImages/PMD1463/PMD1464&1463-F33-2014.02.01-05.00.54_PMD1463_3_0099_lossless.jp2'\n",
    "img=cv2.imread(testfile,-1)\n",
    "subimage=img[10500:12500,10000:12000,:]\n",
    "data=subimage.reshape([subimage.shape[0] * subimage.shape[1],3])\n",
    "\n"
   ]
  },
  {
   "cell_type": "code",
   "execution_count": 5,
   "metadata": {
    "collapsed": false
   },
   "outputs": [],
   "source": [
    "showfile='/home/xli/Documents/2-filter/File1out/test-matched-median.jp2'\n",
    "showimg=cv2.imread(showfile)\n",
    "showsub=showimg[10500:12500,10000:12000,:]"
   ]
  },
  {
   "cell_type": "code",
   "execution_count": 6,
   "metadata": {
    "collapsed": false
   },
   "outputs": [],
   "source": [
    "y_predict=KMeans(n_clusters = 3,max_iter=500,tol=0.001).fit_predict(data)\n",
    "y = y_predict.reshape([subimage.shape[0], subimage.shape[1]])\n",
    "#DrawCluster(showsub,y,3)"
   ]
  },
  {
   "cell_type": "code",
   "execution_count": 7,
   "metadata": {
    "collapsed": true
   },
   "outputs": [],
   "source": [
    "def ExtractF(img,x,y):\n",
    "    #extract feature for pixel img[x,y]\n",
    "    #check boundary\n",
    "    \n",
    "    res=[]\n",
    "    #res.append(None)\n",
    "    res.append(img[x,y,0])\n",
    "    res.append(img[x,y,1])\n",
    "    res.append(img[x,y,2])\n",
    "\n",
    "    res.append(np.mean(img[x-1:x+1,y-1:y+1,0]))\n",
    "    res.append(np.mean(img[x-1:x+1,y-1:y+1,1]))\n",
    "    res.append(np.mean(img[x-1:x+1,y-1:y+1,2]))\n",
    "    \n",
    "    res.append(np.std(img[x-1:x+1,y-1:y+1,0]))\n",
    "    res.append(np.std(img[x-1:x+1,y-1:y+1,1]))\n",
    "    res.append(np.std(img[x-1:x+1,y-1:y+1,2]))\n",
    "    \n",
    "    res.append(np.mean(img[x-2:x+2,y-2:y+2,0]))\n",
    "    res.append(np.mean(img[x-2:x+2,y-2:y+2,1]))\n",
    "    res.append(np.mean(img[x-2:x+2,y-2:y+2,2]))\n",
    "    \n",
    "    res.append(np.std(img[x-2:x+2,y-2:y+2,0]))\n",
    "    res.append(np.std(img[x-2:x+2,y-2:y+2,1]))\n",
    "    res.append(np.std(img[x-2:x+2,y-2:y+2,2]))\n",
    "    \n",
    "    return res"
   ]
  },
  {
   "cell_type": "code",
   "execution_count": 8,
   "metadata": {
    "collapsed": false
   },
   "outputs": [
    {
     "name": "stdout",
     "output_type": "stream",
     "text": [
      "[0, 14, 3, 3.75, 14.5, 9.25, 2.8613807855648994, 9.2330926563096938, 6.3393611665529832, 4.0, 10.125, 8.625, 5.123475382979799, 6.9180470510108556, 5.9358550352918833]\n"
     ]
    }
   ],
   "source": [
    "print ExtractF(img,1000,1000)"
   ]
  },
  {
   "cell_type": "code",
   "execution_count": 9,
   "metadata": {
    "collapsed": false
   },
   "outputs": [],
   "source": [
    "#per pixel:\n",
    "dataX=[]\n",
    "datay=[]\n",
    "for i in range(0,subimage.shape[0]):\n",
    "    for j in range(0, subimage.shape[1]):\n",
    "        \n",
    "        #check boundary\n",
    "        if i > 0+2 and j > 0+2 and i < subimage.shape[0]-2 and j < subimage.shape[1]-2:\n",
    "            dataX.append(ExtractF(subimage,i,j))\n",
    "            if y[i,j] == 2:\n",
    "                datay.append(1)\n",
    "            else:\n",
    "                datay.append(-1)"
   ]
  },
  {
   "cell_type": "code",
   "execution_count": 20,
   "metadata": {
    "collapsed": false
   },
   "outputs": [],
   "source": [
    "trainX=dataX[0:30000]\n",
    "trainy=datay[0:30000]\n",
    "\n",
    "testX=dataX[300000:400000]\n",
    "testy=datay[300000:400000]"
   ]
  },
  {
   "cell_type": "code",
   "execution_count": 21,
   "metadata": {
    "collapsed": false
   },
   "outputs": [],
   "source": [
    "from sklearn import svm"
   ]
  },
  {
   "cell_type": "code",
   "execution_count": 23,
   "metadata": {
    "collapsed": false
   },
   "outputs": [
    {
     "name": "stdout",
     "output_type": "stream",
     "text": [
      "[LibSVM]"
     ]
    },
    {
     "data": {
      "text/plain": [
       "SVC(C=1.0, cache_size=200, class_weight=None, coef0=0.0,\n",
       "  decision_function_shape=None, degree=3, gamma='auto', kernel='rbf',\n",
       "  max_iter=-1, probability=False, random_state=None, shrinking=True,\n",
       "  tol=0.001, verbose=True)"
      ]
     },
     "execution_count": 23,
     "metadata": {},
     "output_type": "execute_result"
    }
   ],
   "source": [
    "clf = svm.SVC(verbose=True)\n",
    "clf.fit(trainX,trainy)"
   ]
  },
  {
   "cell_type": "code",
   "execution_count": 14,
   "metadata": {
    "collapsed": true
   },
   "outputs": [],
   "source": [
    "def diff(y_predicted, testy):\n",
    "    #return tha # of different value\n",
    "    count=0\n",
    "    for i in range(0,len(testy)):\n",
    "        if y_predicted[i] != testy[i]:\n",
    "            count = count + 1\n",
    "    return count"
   ]
  },
  {
   "cell_type": "code",
   "execution_count": 24,
   "metadata": {
    "collapsed": true
   },
   "outputs": [],
   "source": [
    "y_p=clf.predict(testX)"
   ]
  },
  {
   "cell_type": "code",
   "execution_count": 25,
   "metadata": {
    "collapsed": false
   },
   "outputs": [
    {
     "data": {
      "text/plain": [
       "9757"
      ]
     },
     "execution_count": 25,
     "metadata": {},
     "output_type": "execute_result"
    }
   ],
   "source": [
    "diff(y_p,testy)"
   ]
  },
  {
   "cell_type": "code",
   "execution_count": 26,
   "metadata": {
    "collapsed": false
   },
   "outputs": [
    {
     "data": {
      "text/plain": [
       "0.04702"
      ]
     },
     "execution_count": 26,
     "metadata": {},
     "output_type": "execute_result"
    }
   ],
   "source": [
    "4702/float(100000)"
   ]
  },
  {
   "cell_type": "code",
   "execution_count": null,
   "metadata": {
    "collapsed": true
   },
   "outputs": [],
   "source": []
  }
 ],
 "metadata": {
  "kernelspec": {
   "display_name": "Python 2",
   "language": "python",
   "name": "python2"
  },
  "language_info": {
   "codemirror_mode": {
    "name": "ipython",
    "version": 2
   },
   "file_extension": ".py",
   "mimetype": "text/x-python",
   "name": "python",
   "nbconvert_exporter": "python",
   "pygments_lexer": "ipython2",
   "version": "2.7.13"
  }
 },
 "nbformat": 4,
 "nbformat_minor": 2
}
