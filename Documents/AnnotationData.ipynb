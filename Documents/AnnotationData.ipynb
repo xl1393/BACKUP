{
 "cells": [
  {
   "cell_type": "code",
   "execution_count": 1,
   "metadata": {
    "collapsed": true
   },
   "outputs": [],
   "source": [
    "img = 'http://mouse.brainarchitecture.org/webapps/adore-djatoka/resolver?url_ver=Z39.88-2004&rft_id=MouseBrain/679598&svc_id=info:lanl-repo/svc/getRegion&svc_val_fmt=info:ofi/fmt:kev:mtx:jpeg2000&svc.format=image/jpeg&svc.level=8&svc.rotate=0&svc.region=7680,8704,256,256&svc.crange=0-255,0-255,0-255&svc.gamma=1'"
   ]
  },
  {
   "cell_type": "code",
   "execution_count": 3,
   "metadata": {
    "collapsed": false
   },
   "outputs": [],
   "source": [
    "img = 'http://mouse.brainarchitecture.org/webapps/adore-djatoka/resolver?url_ver=Z39.88-2004&rft_id=MouseBrain/679598&svc_id=info:lanl-repo/svc/getRegion&svc_val_fmt=info:ofi/fmt:kev:mtx:jpeg2000&svc.format=image/jpeg&svc.level=8&svc.rotate=0&svc.region=7680,8704,256,256&svc.crange=0-255,0-255,0-255&svc.gamma=1'"
   ]
  },
  {
   "cell_type": "code",
   "execution_count": null,
   "metadata": {
    "collapsed": true
   },
   "outputs": [],
   "source": []
  }
 ],
 "metadata": {
  "kernelspec": {
   "display_name": "Python 2",
   "language": "python",
   "name": "python2"
  },
  "language_info": {
   "codemirror_mode": {
    "name": "ipython",
    "version": 2
   },
   "file_extension": ".py",
   "mimetype": "text/x-python",
   "name": "python",
   "nbconvert_exporter": "python",
   "pygments_lexer": "ipython2",
   "version": "2.7.13"
  }
 },
 "nbformat": 4,
 "nbformat_minor": 2
}
