{
 "cells": [
  {
   "cell_type": "code",
   "execution_count": 1,
   "metadata": {
    "collapsed": true
   },
   "outputs": [],
   "source": [
    "import cv2\n",
    "import numpy as np\n",
    "import glymur\n",
    "from matplotlib import pyplot as plt\n",
    "from scipy import ndimage"
   ]
  },
  {
   "cell_type": "code",
   "execution_count": null,
   "metadata": {
    "collapsed": true
   },
   "outputs": [],
   "source": [
    "def generic_laplace(input, derivative2, output=None, mode=\"reflect\",\n",
    "                    cval=0.0,\n",
    "                    extra_arguments=(),\n",
    "                    extra_keywords = None):\n",
    "    \"\"\"N-dimensional Laplace filter using a provided second derivative function\n",
    "    Parameters\n",
    "    ----------\n",
    "    %(input)s\n",
    "    derivative2 : callable\n",
    "        Callable with the following signature::\n",
    "            derivative2(input, axis, output, mode, cval,\n",
    "                        *extra_arguments, **extra_keywords)\n",
    "        See `extra_arguments`, `extra_keywords` below.\n",
    "    %(output)s\n",
    "    %(mode)s\n",
    "    %(cval)s\n",
    "    %(extra_keywords)s\n",
    "    %(extra_arguments)s\n",
    "    \"\"\"\n",
    "    if extra_keywords is None:\n",
    "        extra_keywords = {}\n",
    "    input = numpy.asarray(input)\n",
    "    output, return_value = _ni_support._get_output(output, input)\n",
    "    axes = list(range(input.ndim))\n",
    "    if len(axes) > 0:\n",
    "        derivative2(input, axes[0], output, mode, cval,\n",
    "                    *extra_arguments, **extra_keywords)\n",
    "        for ii in range(1, len(axes)):\n",
    "            tmp = derivative2(input, axes[ii], output.dtype, mode, cval,\n",
    "                              *extra_arguments, **extra_keywords)\n",
    "            output += tmp\n",
    "    else:\n",
    "        output[...] = input[...]\n",
    "    return return_value"
   ]
  },
  {
   "cell_type": "code",
   "execution_count": null,
   "metadata": {
    "collapsed": true
   },
   "outputs": [],
   "source": [
    "def gaussian_laplace(input, sigma, output=None, mode=\"reflect\",\n",
    "                     cval=0.0, **kwargs):\n",
    "    \"\"\"Multidimensional Laplace filter using gaussian second derivatives.\n",
    "    Parameters\n",
    "    ----------\n",
    "    %(input)s\n",
    "    sigma : scalar or sequence of scalars\n",
    "        The standard deviations of the Gaussian filter are given for\n",
    "        each axis as a sequence, or as a single number, in which case\n",
    "        it is equal for all axes.\n",
    "    %(output)s\n",
    "    %(mode)s\n",
    "    %(cval)s\n",
    "    Extra keyword arguments will be passed to gaussian_filter().\n",
    "    \"\"\"\n",
    "    input = numpy.asarray(input)\n",
    "\n",
    "    def derivative2(input, axis, output, mode, cval, sigma, **kwargs):\n",
    "        order = [0] * input.ndim\n",
    "        order[axis] = 2\n",
    "        return gaussian_filter(input, sigma, order, output, mode, cval,\n",
    "                               **kwargs)\n",
    "\n",
    "    return generic_laplace(input, derivative2, output, mode, cval,\n",
    "                           extra_arguments=(sigma,),\n",
    "                           extra_keywords=kwargs)\n"
   ]
  },
  {
   "cell_type": "code",
   "execution_count": 2,
   "metadata": {
    "collapsed": true
   },
   "outputs": [],
   "source": [
    "def hist_match(source, template):\n",
    "    \"\"\"\n",
    "    Adjust the pixel values of a grayscale image such that its histogram\n",
    "    matches that of a target image\n",
    "\n",
    "    Arguments:\n",
    "    -----------\n",
    "        source: np.ndarray\n",
    "            Image to transform; the histogram is computed over the flattened\n",
    "            array\n",
    "        template: np.ndarray\n",
    "            Template image; can have different dimensions to source\n",
    "    Returns:\n",
    "    -----------\n",
    "        matched: np.ndarray\n",
    "            The transformed output image\n",
    "    \"\"\"\n",
    "\n",
    "    oldshape = source.shape\n",
    "    source = source.ravel()\n",
    "    template = template.ravel()\n",
    "\n",
    "    # get the set of unique pixel values and their corresponding indices and\n",
    "    # counts\n",
    "    s_values, bin_idx, s_counts = np.unique(source, return_inverse=True,\n",
    "                                            return_counts=True)\n",
    "    t_values, t_counts = np.unique(template, return_counts=True)\n",
    "\n",
    "    # take the cumsum of the counts and normalize by the number of pixels to\n",
    "    # get the empirical cumulative distribution functions for the source and\n",
    "    # template images (maps pixel value --> quantile)\n",
    "    s_quantiles = np.cumsum(s_counts).astype(np.float64)\n",
    "    s_quantiles /= s_quantiles[-1]\n",
    "    t_quantiles = np.cumsum(t_counts).astype(np.float64)\n",
    "    t_quantiles /= t_quantiles[-1]\n",
    "\n",
    "    # interpolate linearly to find the pixel values in the template image\n",
    "    # that correspond most closely to the quantiles in the source image\n",
    "    interp_t_values = np.interp(s_quantiles, t_quantiles, t_values)\n",
    "\n",
    "    return interp_t_values[bin_idx].reshape(oldshape)"
   ]
  },
  {
   "cell_type": "code",
   "execution_count": 3,
   "metadata": {
    "collapsed": true
   },
   "outputs": [],
   "source": [
    "def hist_match_color(source,template):\n",
    "    b_source=source[:,:,0]\n",
    "    g_source=source[:,:,1]\n",
    "    r_source=source[:,:,2]\n",
    "    \n",
    "    b_template=template[:,:,0]\n",
    "    g_template=template[:,:,1]\n",
    "    r_template=template[:,:,2]\n",
    "    \n",
    "    b_matched=hist_match(b_source,b_template)\n",
    "    g_matched=hist_match(g_source,g_template)\n",
    "    r_matched=hist_match(r_source,r_template)\n",
    "    \n",
    "    matched=cv2.merge([b_matched,g_matched,r_matched])\n",
    "    return matched"
   ]
  },
  {
   "cell_type": "code",
   "execution_count": 4,
   "metadata": {
    "collapsed": false
   },
   "outputs": [
    {
     "name": "stdout",
     "output_type": "stream",
     "text": [
      "OpenCV Version: 3.1.0\n"
     ]
    }
   ],
   "source": [
    "print(\"OpenCV Version: {}\". format(cv2. __version__))"
   ]
  },
  {
   "cell_type": "code",
   "execution_count": 31,
   "metadata": {
    "collapsed": true
   },
   "outputs": [],
   "source": [
    "#File1='/home/xli/testImages/PMD1463/PMD1464&1463-F33-2014.02.01-05.00.54_PMD1463_3_0099_lossless.jp2'\n",
    "#result saved in File1out folder\n",
    "\n",
    "File1='/home/xli/testImages/PMD1463/PMD1464&1463-F33-2014.02.01-05.00.54_PMD1463_2_0098_lossless.jp2'\n",
    "#result saved in File2out folder\n",
    "img=cv2.imread(File1,-1)"
   ]
  },
  {
   "cell_type": "code",
   "execution_count": 32,
   "metadata": {
    "collapsed": false
   },
   "outputs": [],
   "source": [
    "#test filter in 8 bit\n",
    "#need to check cv2.imwrite on different platform\n",
    "#or find another way save img or another format can be accept.\n",
    "img8=np.asarray(img/float(16),'uint8')"
   ]
  },
  {
   "cell_type": "code",
   "execution_count": 33,
   "metadata": {
    "collapsed": false
   },
   "outputs": [],
   "source": [
    "def info(img8):\n",
    "    print img8.dtype\n",
    "    print img8.shape\n",
    "    print type(img8)\n",
    "    print np.max(img8)\n",
    "    print np.min(img8)"
   ]
  },
  {
   "cell_type": "code",
   "execution_count": 34,
   "metadata": {
    "collapsed": true
   },
   "outputs": [],
   "source": [
    "template=cv2.imread('/home/xli/Documents/Marmo919_SK/Thalamus_0.jpg')"
   ]
  },
  {
   "cell_type": "code",
   "execution_count": 35,
   "metadata": {
    "collapsed": true
   },
   "outputs": [],
   "source": [
    "matched=hist_match_color(img8,template)"
   ]
  },
  {
   "cell_type": "code",
   "execution_count": 36,
   "metadata": {
    "collapsed": false
   },
   "outputs": [
    {
     "name": "stdout",
     "output_type": "stream",
     "text": [
      "float64\n",
      "(21892, 25456, 3)\n",
      "<type 'numpy.ndarray'>\n",
      "255.0\n",
      "19.7784196051\n"
     ]
    }
   ],
   "source": [
    "info(matched)"
   ]
  },
  {
   "cell_type": "code",
   "execution_count": 37,
   "metadata": {
    "collapsed": true
   },
   "outputs": [],
   "source": [
    "matched=np.asarray(matched,'uint8')"
   ]
  },
  {
   "cell_type": "code",
   "execution_count": 38,
   "metadata": {
    "collapsed": false
   },
   "outputs": [
    {
     "data": {
      "text/plain": [
       "True"
      ]
     },
     "execution_count": 38,
     "metadata": {},
     "output_type": "execute_result"
    }
   ],
   "source": [
    "cv2.imwrite('test-matche.jp2',matched)"
   ]
  },
  {
   "cell_type": "code",
   "execution_count": 39,
   "metadata": {
    "collapsed": true
   },
   "outputs": [],
   "source": [
    "#######################################################################"
   ]
  },
  {
   "cell_type": "code",
   "execution_count": 40,
   "metadata": {
    "collapsed": false
   },
   "outputs": [
    {
     "data": {
      "text/plain": [
       "True"
      ]
     },
     "execution_count": 40,
     "metadata": {},
     "output_type": "execute_result"
    }
   ],
   "source": [
    "median=cv2.medianBlur(matched,3)\n",
    "cv2.imwrite('test-matched-median.jp2',median)"
   ]
  },
  {
   "cell_type": "code",
   "execution_count": 41,
   "metadata": {
    "collapsed": false
   },
   "outputs": [
    {
     "data": {
      "text/plain": [
       "True"
      ]
     },
     "execution_count": 41,
     "metadata": {},
     "output_type": "execute_result"
    }
   ],
   "source": [
    "#LoG filter test\n",
    "#use this to remove autofluorence? unsupervised should be good!\n",
    "#overlap with green channel\n",
    "#\n",
    "import scipy.ndimage as nd\n",
    "\n",
    "LOG=nd.gaussian_laplace(median,3)\n",
    "cv2.imwrite('test-matched-median-LoG3.jp2',LOG)"
   ]
  },
  {
   "cell_type": "code",
   "execution_count": 43,
   "metadata": {
    "collapsed": false
   },
   "outputs": [
    {
     "data": {
      "text/plain": [
       "True"
      ]
     },
     "execution_count": 43,
     "metadata": {},
     "output_type": "execute_result"
    }
   ],
   "source": [
    "####\n",
    "mediancp=np.copy(median)\n",
    "mask1 = LOG[:,:,0] + LOG[:,:,1] + LOG[:,:,2] < 40      #background noise 40\n",
    "mask2 = median[:,:,1] < 100                              #not strong green (need to replace by better detect) 70\n",
    "mask3 = np.max(median[:,:,:],axis=2) == median[:,:,2]   #looks red(need to replace by autofluo detect)\n",
    "\n",
    "mediancp[mask1 & mask2] = 0 \n",
    "mediancp[mask3] = 0\n",
    "\n",
    "cv2.imwrite('test-matched-median-LoG3-3mask.jp2',mediancp)\n",
    "\n",
    "####\n",
    "#NEXT STEP: result is ok, need to TUNE parameters !\n",
    "#NEXT STEP: smooth it, make disconnected join & reduce noise"
   ]
  },
  {
   "cell_type": "code",
   "execution_count": 78,
   "metadata": {
    "collapsed": false
   },
   "outputs": [],
   "source": [
    "mask= LOG[:,:,0]+LOG[:,:,1]+LOG[:,:,2] < 30"
   ]
  },
  {
   "cell_type": "code",
   "execution_count": 79,
   "metadata": {
    "collapsed": false,
    "scrolled": true
   },
   "outputs": [
    {
     "data": {
      "text/plain": [
       "True"
      ]
     },
     "execution_count": 79,
     "metadata": {},
     "output_type": "execute_result"
    }
   ],
   "source": [
    "median[mask]= 0\n",
    "cv2.imwrite('test-matched-median-LoG3-mask.jp2',median)"
   ]
  },
  {
   "cell_type": "code",
   "execution_count": 83,
   "metadata": {
    "collapsed": false
   },
   "outputs": [],
   "source": [
    "mask1 = LOG[:,:,0]+LOG[:,:,1]+LOG[:,:,2] < 5\n",
    "mask2 = np.max(LOG[:,:,:],axis=2) == LOG[:,:,2]\n",
    "cmask=mask1 & mask2"
   ]
  },
  {
   "cell_type": "code",
   "execution_count": 87,
   "metadata": {
    "collapsed": false
   },
   "outputs": [
    {
     "data": {
      "text/plain": [
       "True"
      ]
     },
     "execution_count": 87,
     "metadata": {},
     "output_type": "execute_result"
    }
   ],
   "source": [
    "median=cv2.medianBlur(matched,3)\n",
    "LOG=nd.gaussian_laplace(median,3)\n",
    "mask1 = LOG[:,:,0]+LOG[:,:,1]+LOG[:,:,2] < 5\n",
    "mask2 = np.max(median[:,:,:],axis=2) == median[:,:,2]\n",
    "#mask3 = \n",
    "median[mask1]=0\n",
    "median[mask2]=0\n",
    "cv2.imwrite('test-matched-median-LoG3-redmask.jp2',median)"
   ]
  },
  {
   "cell_type": "code",
   "execution_count": 90,
   "metadata": {
    "collapsed": false
   },
   "outputs": [
    {
     "data": {
      "text/plain": [
       "True"
      ]
     },
     "execution_count": 90,
     "metadata": {},
     "output_type": "execute_result"
    }
   ],
   "source": [
    "median=cv2.medianBlur(matched,3)\n",
    "LOG=nd.gaussian_laplace(median,3)\n",
    "mask1 = LOG[:,:,0]+LOG[:,:,1]+LOG[:,:,2] < 30\n",
    "#mask2 = median[:,:,1]<30\n",
    "mask2 = np.max(median[:,:,:],axis=2) != median[:,:,1]\n",
    "median[mask1 & mask2] = 0\n",
    "cv2.imwrite('test-matched-median-LoG3-overlap.jp2',median)"
   ]
  },
  {
   "cell_type": "code",
   "execution_count": null,
   "metadata": {
    "collapsed": true
   },
   "outputs": [],
   "source": [
    "#2D convolution with kernel test\n",
    "gaussian_kernel=np.array([[1,4,7,4,1],[4,16,26,16,4],[7,26,41,26,7],[4,16,26,16,4],[1,4,7,4,1]])/273.\n",
    "test_kernel=np.array([[0,1/8.,0],[1/8.0,1/2.,1/8.],[0,1/8.,0]])\n",
    "outline_kernel=np.array([[-1,-1,-1],[-1,8,-1],[-1,-1,-1]])"
   ]
  },
  {
   "cell_type": "code",
   "execution_count": null,
   "metadata": {
    "collapsed": false
   },
   "outputs": [],
   "source": [
    "#kernel=np.ones([63,63])\n",
    "#kernel=kernel/float(63)\n",
    "kernel=outline_kernel\n",
    "low_pass_b=ndimage.convolve(median[:,:,0],kernel)\n",
    "low_pass_g=ndimage.convolve(median[:,:,1],kernel)\n",
    "low_pass_r=ndimage.convolve(median[:,:,2],kernel)\n",
    "\n",
    "low_pass=cv2.merge([low_pass_b,low_pass_g,low_pass_r])\n",
    "\n",
    "info(low_pass)\n",
    "\n",
    "cv2.imwrite('test-matched-median-lowpass.jp2',low_pass)"
   ]
  },
  {
   "cell_type": "code",
   "execution_count": null,
   "metadata": {
    "collapsed": false
   },
   "outputs": [],
   "source": [
    "#1. find large kernel\n",
    "#2. it is slow to apply large kernel. use fourier transform"
   ]
  },
  {
   "cell_type": "code",
   "execution_count": 2,
   "metadata": {
    "collapsed": false
   },
   "outputs": [],
   "source": [
    "#Butterworth Filter in frequency domain test:\n",
    "\n",
    "def butter2d_lp(shape, f, n, pxd=1):\n",
    "    \"\"\"Designs an n-th order lowpass 2D Butterworth filter with cutoff\n",
    "   frequency f. pxd defines the number of pixels per unit of frequency (e.g.,\n",
    "   degrees of visual angle).\"\"\"\n",
    "    pxd = float(pxd)\n",
    "    rows, cols = shape\n",
    "    x = np.linspace(-0.5, 0.5, cols)  * cols / pxd\n",
    "    y = np.linspace(-0.5, 0.5, rows)  * rows / pxd\n",
    "    radius = np.sqrt((x**2)[np.newaxis] + (y**2)[:, np.newaxis])\n",
    "    filt = 1 / (1.0 + (radius / f)**(2*n))\n",
    "    return filt\n",
    " \n",
    "def butter2d_bp(shape, cutin, cutoff, n, pxd=1):\n",
    "    \"\"\"Designs an n-th order bandpass 2D Butterworth filter with cutin and\n",
    "   cutoff frequencies. pxd defines the number of pixels per unit of frequency\n",
    "   (e.g., degrees of visual angle).\"\"\"\n",
    "    return butter2d_lp(shape,cutoff,n,pxd) - butter2d_lp(shape,cutin,n,pxd)\n",
    " \n",
    "def butter2d_hp(shape, f, n, pxd=1):\n",
    "    \"\"\"Designs an n-th order highpass 2D Butterworth filter with cutin\n",
    "   frequency f. pxd defines the number of pixels per unit of frequency (e.g.,\n",
    "   degrees of visual angle).\"\"\"\n",
    "    return 1. - butter2d_lp(shape, f, n, pxd)"
   ]
  },
  {
   "cell_type": "code",
   "execution_count": 24,
   "metadata": {
    "collapsed": false
   },
   "outputs": [],
   "source": [
    "#cv2.imwrite('test-matched-median-green.jp2',median[:,:,1])\n",
    "#cv2.imwrite('test-matched-median-red.jp2',median[:,:,2])\n",
    "#test with green channel:\n",
    "#medianG=cv2.imread('test-matched-median-green.jp2')\n",
    "medianG=median[:,:,1]"
   ]
  },
  {
   "cell_type": "code",
   "execution_count": 27,
   "metadata": {
    "collapsed": false
   },
   "outputs": [],
   "source": [
    "fft_orig = np.fft.fftshift(np.fft.fft2(medianG))\n",
    "recon_image = np.abs(np.fft.ifft2(np.fft.ifftshift(fft_orig)))"
   ]
  },
  {
   "cell_type": "code",
   "execution_count": 10,
   "metadata": {
    "collapsed": false
   },
   "outputs": [
    {
     "name": "stderr",
     "output_type": "stream",
     "text": [
      "/usr/local/anaconda2/lib/python2.7/site-packages/ipykernel/__main__.py:1: RuntimeWarning: divide by zero encountered in log\n",
      "  if __name__ == '__main__':\n"
     ]
    },
    {
     "data": {
      "text/plain": [
       "True"
      ]
     },
     "execution_count": 10,
     "metadata": {},
     "output_type": "execute_result"
    }
   ],
   "source": [
    "cv2.imwrite('fft.jp2',np.log(np.abs(fft_orig)))\n",
    "cv2.imwrite('fft-re.jp2',recon_image)"
   ]
  },
  {
   "cell_type": "code",
   "execution_count": 42,
   "metadata": {
    "collapsed": false
   },
   "outputs": [],
   "source": [
    "filt = butter2d_lp(medianG.shape, 0.1, 2, pxd=10000)\n",
    "fft_new = fft_orig * filt\n",
    "new_image = np.abs(np.fft.ifft2(np.fft.ifftshift(fft_new)))"
   ]
  },
  {
   "cell_type": "code",
   "execution_count": 43,
   "metadata": {
    "collapsed": false
   },
   "outputs": [
    {
     "name": "stdout",
     "output_type": "stream",
     "text": [
      "float64\n",
      "(22176, 27010)\n",
      "<type 'numpy.ndarray'>\n",
      "1.0\n",
      "1.07265457141e-05\n",
      "None\n",
      "float64\n",
      "(22176, 27010)\n",
      "<type 'numpy.ndarray'>\n",
      "263.44357662\n",
      "25.9159204098\n",
      "None\n"
     ]
    },
    {
     "data": {
      "text/plain": [
       "True"
      ]
     },
     "execution_count": 43,
     "metadata": {},
     "output_type": "execute_result"
    }
   ],
   "source": [
    "print info(filt)\n",
    "print info(new_image)\n",
    "cv2.imwrite('test-matched-median-fftlowpass.jp2',new_image)"
   ]
  },
  {
   "cell_type": "code",
   "execution_count": 56,
   "metadata": {
    "collapsed": false
   },
   "outputs": [],
   "source": [
    "filt = butter2d_bp(medianG.shape, 0.9, 0.2, 2, pxd=10000)\n",
    "fft_new = fft_orig * filt\n",
    "new_image = np.abs(np.fft.ifft2(np.fft.ifftshift(fft_new)))"
   ]
  },
  {
   "cell_type": "code",
   "execution_count": 57,
   "metadata": {
    "collapsed": false
   },
   "outputs": [
    {
     "name": "stdout",
     "output_type": "stream",
     "text": [
      "float64\n",
      "(22176, 27010)\n",
      "<type 'numpy.ndarray'>\n",
      "-1.55431223448e-14\n",
      "-0.905882352941\n",
      "None\n",
      "float64\n",
      "(22176, 27010)\n",
      "<type 'numpy.ndarray'>\n",
      "123.781855382\n",
      "4.78616404708e-11\n",
      "None\n"
     ]
    },
    {
     "data": {
      "text/plain": [
       "True"
      ]
     },
     "execution_count": 57,
     "metadata": {},
     "output_type": "execute_result"
    }
   ],
   "source": [
    "print info(filt)\n",
    "print info(new_image)\n",
    "cv2.imwrite('test-matched-median-fftbandpass.jp2',new_image)"
   ]
  },
  {
   "cell_type": "code",
   "execution_count": 33,
   "metadata": {
    "collapsed": false
   },
   "outputs": [
    {
     "data": {
      "text/plain": [
       "True"
      ]
     },
     "execution_count": 33,
     "metadata": {},
     "output_type": "execute_result"
    }
   ],
   "source": [
    "cv2.imwrite('test-matched-median-fftlowpass.jp2',new_image)"
   ]
  },
  {
   "cell_type": "code",
   "execution_count": null,
   "metadata": {
    "collapsed": true
   },
   "outputs": [],
   "source": []
  }
 ],
 "metadata": {
  "kernelspec": {
   "display_name": "Python 2",
   "language": "python",
   "name": "python2"
  },
  "language_info": {
   "codemirror_mode": {
    "name": "ipython",
    "version": 2
   },
   "file_extension": ".py",
   "mimetype": "text/x-python",
   "name": "python",
   "nbconvert_exporter": "python",
   "pygments_lexer": "ipython2",
   "version": "2.7.13"
  }
 },
 "nbformat": 4,
 "nbformat_minor": 2
}
