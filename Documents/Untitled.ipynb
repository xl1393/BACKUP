{
 "cells": [
  {
   "cell_type": "code",
   "execution_count": 1,
   "metadata": {
    "collapsed": true
   },
   "outputs": [],
   "source": [
    "import pickle"
   ]
  },
  {
   "cell_type": "code",
   "execution_count": 5,
   "metadata": {
    "collapsed": false
   },
   "outputs": [],
   "source": [
    "pickle_path='tiles1.p'"
   ]
  },
  {
   "cell_type": "code",
   "execution_count": 6,
   "metadata": {
    "collapsed": true
   },
   "outputs": [],
   "source": [
    "with open(pickle_path,'rb') as f:\n",
    "    tile_info = pickle.load(f)"
   ]
  },
  {
   "cell_type": "code",
   "execution_count": 7,
   "metadata": {
    "collapsed": false
   },
   "outputs": [
    {
     "data": {
      "text/plain": [
       "{'AvishekBh': {'brain_no': 1969,\n",
       "  'sectionid': 875013,\n",
       "  'tilename': 48,\n",
       "  'tiles': [(4691, 15715),\n",
       "   (4691, 16227),\n",
       "   (4691, 16739),\n",
       "   (5203, 15715),\n",
       "   (5203, 16227),\n",
       "   (5203, 16739),\n",
       "   (5715, 15715),\n",
       "   (5715, 16227),\n",
       "   (5715, 16739)]},\n",
       " 'Balamurali': {'brain_no': 1969,\n",
       "  'sectionid': 875021,\n",
       "  'tilename': 56,\n",
       "  'tiles': [(4691, 15715),\n",
       "   (4691, 16227),\n",
       "   (4691, 16739),\n",
       "   (5203, 15715),\n",
       "   (5203, 16227),\n",
       "   (5203, 16739),\n",
       "   (5715, 15715),\n",
       "   (5715, 16227),\n",
       "   (5715, 16739)]},\n",
       " 'Sapta': {'brain_no': 1969,\n",
       "  'sectionid': 875012,\n",
       "  'tilename': 47,\n",
       "  'tiles': [(4691, 15715),\n",
       "   (4691, 16227),\n",
       "   (4691, 16739),\n",
       "   (5203, 15715),\n",
       "   (5203, 16227),\n",
       "   (5203, 16739),\n",
       "   (5715, 15715),\n",
       "   (5715, 16227),\n",
       "   (5715, 16739)]},\n",
       " 'abinmathew2': {'brain_no': 1969,\n",
       "  'sectionid': 875019,\n",
       "  'tilename': 54,\n",
       "  'tiles': [(4691, 15715),\n",
       "   (4691, 16227),\n",
       "   (4691, 16739),\n",
       "   (5203, 15715),\n",
       "   (5203, 16227),\n",
       "   (5203, 16739),\n",
       "   (5715, 15715),\n",
       "   (5715, 16227),\n",
       "   (5715, 16739)]},\n",
       " 'anubha': {'brain_no': 1969,\n",
       "  'sectionid': 875016,\n",
       "  'tilename': 51,\n",
       "  'tiles': [(4691, 15715),\n",
       "   (4691, 16227),\n",
       "   (4691, 16739),\n",
       "   (5203, 15715),\n",
       "   (5203, 16227),\n",
       "   (5203, 16739),\n",
       "   (5715, 15715),\n",
       "   (5715, 16227),\n",
       "   (5715, 16739)]},\n",
       " 'cs14d008': {'brain_no': 1969,\n",
       "  'sectionid': 875014,\n",
       "  'tilename': 49,\n",
       "  'tiles': [(4691, 15715),\n",
       "   (4691, 16227),\n",
       "   (4691, 16739),\n",
       "   (5203, 15715),\n",
       "   (5203, 16227),\n",
       "   (5203, 16739),\n",
       "   (5715, 15715),\n",
       "   (5715, 16227),\n",
       "   (5715, 16739)]},\n",
       " 'giri': {'brain_no': 1969,\n",
       "  'sectionid': 875022,\n",
       "  'tilename': 57,\n",
       "  'tiles': [(4691, 15715),\n",
       "   (4691, 16227),\n",
       "   (4691, 16739),\n",
       "   (5203, 15715),\n",
       "   (5203, 16227),\n",
       "   (5203, 16739),\n",
       "   (5715, 15715),\n",
       "   (5715, 16227),\n",
       "   (5715, 16739)]},\n",
       " 'hari': {'brain_no': 1969,\n",
       "  'sectionid': 875017,\n",
       "  'tilename': 52,\n",
       "  'tiles': [(4691, 15715),\n",
       "   (4691, 16227),\n",
       "   (4691, 16739),\n",
       "   (5203, 15715),\n",
       "   (5203, 16227),\n",
       "   (5203, 16739),\n",
       "   (5715, 15715),\n",
       "   (5715, 16227),\n",
       "   (5715, 16739)]},\n",
       " 'jkrishnavs': {'brain_no': 1969,\n",
       "  'sectionid': 875011,\n",
       "  'tilename': 46,\n",
       "  'tiles': [(4691, 15715),\n",
       "   (4691, 16227),\n",
       "   (4691, 16739),\n",
       "   (5203, 15715),\n",
       "   (5203, 16227),\n",
       "   (5203, 16739),\n",
       "   (5715, 15715),\n",
       "   (5715, 16227),\n",
       "   (5715, 16739)]},\n",
       " 'muhammadarsath': {'brain_no': 1969,\n",
       "  'sectionid': 875020,\n",
       "  'tilename': 55,\n",
       "  'tiles': [(4691, 15715),\n",
       "   (4691, 16227),\n",
       "   (4691, 16739),\n",
       "   (5203, 15715),\n",
       "   (5203, 16227),\n",
       "   (5203, 16739),\n",
       "   (5715, 15715),\n",
       "   (5715, 16227),\n",
       "   (5715, 16739)]},\n",
       " 'nikitam': {'brain_no': 1969,\n",
       "  'sectionid': 875018,\n",
       "  'tilename': 53,\n",
       "  'tiles': [(4691, 15715),\n",
       "   (4691, 16227),\n",
       "   (4691, 16739),\n",
       "   (5203, 15715),\n",
       "   (5203, 16227),\n",
       "   (5203, 16739),\n",
       "   (5715, 15715),\n",
       "   (5715, 16227),\n",
       "   (5715, 16739)]},\n",
       " 'ukd': {'brain_no': 1969,\n",
       "  'sectionid': 875015,\n",
       "  'tilename': 50,\n",
       "  'tiles': [(4691, 15715),\n",
       "   (4691, 16227),\n",
       "   (4691, 16739),\n",
       "   (5203, 15715),\n",
       "   (5203, 16227),\n",
       "   (5203, 16739),\n",
       "   (5715, 15715),\n",
       "   (5715, 16227),\n",
       "   (5715, 16739)]}}"
      ]
     },
     "execution_count": 7,
     "metadata": {},
     "output_type": "execute_result"
    }
   ],
   "source": [
    "tile_info"
   ]
  },
  {
   "cell_type": "code",
   "execution_count": null,
   "metadata": {
    "collapsed": true
   },
   "outputs": [],
   "source": []
  }
 ],
 "metadata": {
  "kernelspec": {
   "display_name": "Python 2",
   "language": "python",
   "name": "python2"
  },
  "language_info": {
   "codemirror_mode": {
    "name": "ipython",
    "version": 2
   },
   "file_extension": ".py",
   "mimetype": "text/x-python",
   "name": "python",
   "nbconvert_exporter": "python",
   "pygments_lexer": "ipython2",
   "version": "2.7.13"
  }
 },
 "nbformat": 4,
 "nbformat_minor": 2
}
