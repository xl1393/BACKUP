{
 "cells": [
  {
   "cell_type": "code",
   "execution_count": 1,
   "metadata": {
    "collapsed": true
   },
   "outputs": [],
   "source": [
    "import math\n",
    "import sys\n",
    "import operator\n",
    "import networkx as nx\n",
    "#import matplotlib.pyplot as plt\n",
    "import numpy as np\n",
    "import scipy.spatial.distance\n",
    "import scipy.signal\n",
    "import skimage\n",
    "import skimage.io\n",
    "from skimage.segmentation import slic\n",
    "from skimage.util import img_as_float\n",
    "from scipy.optimize import minimize"
   ]
  },
  {
   "cell_type": "code",
   "execution_count": 7,
   "metadata": {
    "collapsed": true
   },
   "outputs": [],
   "source": [
    "def get_saliency_rbd(img_path):\n",
    "\n",
    "    # Saliency map calculation based on:\n",
    "    # Saliency Optimization from Robust Background Detection, Wangjiang Zhu, Shuang Liang, Yichen Wei and Jian Sun, IEEE Conference on Computer Vision and Pattern Recognition (CVPR), 2014\n",
    "\n",
    "    img = skimage.io.imread(img_path)\n",
    "\n",
    "    if len(img.shape) != 3: # got a grayscale image\n",
    "        img = skimage.color.gray2rgb(img)\n",
    "\n",
    "    img_lab = img_as_float(skimage.color.rgb2lab(img))\n",
    "\n",
    "    img_rgb = img_as_float(img)\n",
    "\n",
    "    img_gray = img_as_float(skimage.color.rgb2gray(img))\n",
    "\n",
    "    segments_slic = slic(img_rgb, n_segments=250, compactness=10, sigma=1, enforce_connectivity=False)\n",
    "\n",
    "    num_segments = len(np.unique(segments_slic))\n",
    "\n",
    "    nrows, ncols = segments_slic.shape\n",
    "    max_dist = math.sqrt(nrows*nrows + ncols*ncols)\n",
    "\n",
    "    grid = segments_slic\n",
    "\n",
    "    (vertices,edges) = make_graph(grid)\n",
    "\n",
    "    gridx, gridy = np.mgrid[:grid.shape[0], :grid.shape[1]]\n",
    "\n",
    "    centers = dict()\n",
    "    colors = dict()\n",
    "    distances = dict()\n",
    "    boundary = dict()\n",
    "\n",
    "    for v in vertices:\n",
    "        centers[v] = [gridy[grid == v].mean(), gridx[grid == v].mean()]\n",
    "        colors[v] = np.mean(img_lab[grid==v],axis=0)\n",
    "\n",
    "        x_pix = gridx[grid == v]\n",
    "        y_pix = gridy[grid == v]\n",
    "\n",
    "        if np.any(x_pix == 0) or np.any(y_pix == 0) or np.any(x_pix == nrows - 1) or np.any(y_pix == ncols - 1):\n",
    "            boundary[v] = 1\n",
    "        else:\n",
    "            boundary[v] = 0\n",
    "\n",
    "    G = nx.Graph()\n",
    "\n",
    "    #buid the graph\n",
    "    for edge in edges:\n",
    "        pt1 = edge[0]\n",
    "        pt2 = edge[1]\n",
    "        color_distance = scipy.spatial.distance.euclidean(colors[pt1],colors[pt2])\n",
    "        G.add_edge(pt1, pt2, weight=color_distance )\n",
    "\n",
    "    #add a new edge in graph if edges are both on boundary\n",
    "    for v1 in vertices:\n",
    "        if boundary[v1] == 1:\n",
    "            for v2 in vertices:\n",
    "                if boundary[v2] == 1:\n",
    "                    color_distance = scipy.spatial.distance.euclidean(colors[v1],colors[v2])\n",
    "                    G.add_edge(v1,v2,weight=color_distance)\n",
    "\n",
    "    geodesic = np.zeros((len(vertices),len(vertices)),dtype=float)\n",
    "    spatial = np.zeros((len(vertices),len(vertices)),dtype=float)\n",
    "    smoothness = np.zeros((len(vertices),len(vertices)),dtype=float)\n",
    "    adjacency = np.zeros((len(vertices),len(vertices)),dtype=float)\n",
    "\n",
    "    sigma_clr = 10.0\n",
    "    sigma_bndcon = 1.0\n",
    "    sigma_spa = 0.25\n",
    "    mu = 0.1\n",
    "\n",
    "    all_shortest_paths_color = nx.shortest_path(G,source=None,target=None,weight='weight')\n",
    "\n",
    "    for v1 in vertices:\n",
    "        for v2 in vertices:\n",
    "            if v1 == v2:\n",
    "                geodesic[v1,v2] = 0\n",
    "                spatial[v1,v2] = 0\n",
    "                smoothness[v1,v2] = 0\n",
    "            else:\n",
    "                geodesic[v1,v2] = path_length(all_shortest_paths_color[v1][v2],G)\n",
    "                spatial[v1,v2] = scipy.spatial.distance.euclidean(centers[v1],centers[v2]) / max_dist\n",
    "                smoothness[v1,v2] = math.exp( - (geodesic[v1,v2] * geodesic[v1,v2])/(2.0*sigma_clr*sigma_clr)) + mu \n",
    "\n",
    "    for edge in edges:\n",
    "        pt1 = edge[0]\n",
    "        pt2 = edge[1]\n",
    "        adjacency[pt1,pt2] = 1\n",
    "        adjacency[pt2,pt1] = 1\n",
    "\n",
    "    for v1 in vertices:\n",
    "        for v2 in vertices:\n",
    "            smoothness[v1,v2] = adjacency[v1,v2] * smoothness[v1,v2]\n",
    "\n",
    "    area = dict()\n",
    "    len_bnd = dict()\n",
    "    bnd_con = dict()\n",
    "    w_bg = dict()\n",
    "    ctr = dict()\n",
    "    wCtr = dict()\n",
    "\n",
    "    for v1 in vertices:\n",
    "        area[v1] = 0\n",
    "        len_bnd[v1] = 0\n",
    "        ctr[v1] = 0\n",
    "        for v2 in vertices:\n",
    "            d_app = geodesic[v1,v2]\n",
    "            d_spa = spatial[v1,v2]\n",
    "            w_spa = math.exp(- ((d_spa)*(d_spa))/(2.0*sigma_spa*sigma_spa))\n",
    "            area_i = S(v1,v2,geodesic)\n",
    "            area[v1] += area_i\n",
    "            len_bnd[v1] += area_i * boundary[v2]\n",
    "            ctr[v1] += d_app * w_spa\n",
    "        bnd_con[v1] = len_bnd[v1] / math.sqrt(area[v1])\n",
    "        w_bg[v1] = 1.0 - math.exp(- (bnd_con[v1]*bnd_con[v1])/(2*sigma_bndcon*sigma_bndcon))\n",
    "\n",
    "    for v1 in vertices:\n",
    "        wCtr[v1] = 0\n",
    "        for v2 in vertices:\n",
    "            d_app = geodesic[v1,v2]\n",
    "            d_spa = spatial[v1,v2]\n",
    "            w_spa = math.exp(- (d_spa*d_spa)/(2.0*sigma_spa*sigma_spa))\n",
    "            wCtr[v1] += d_app * w_spa *  w_bg[v2]\n",
    "\n",
    "    # normalise value for wCtr\n",
    "\n",
    "    min_value = min(wCtr.values())\n",
    "    max_value = max(wCtr.values())\n",
    "\n",
    "    minVal = [key for key, value in wCtr.iteritems() if value == min_value]\n",
    "    maxVal = [key for key, value in wCtr.iteritems() if value == max_value]\n",
    "\n",
    "    for v in vertices:\n",
    "        wCtr[v] = (wCtr[v] - min_value)/(max_value - min_value)\n",
    "\n",
    "    img_disp1 = img_gray.copy()\n",
    "    img_disp2 = img_gray.copy()\n",
    "\n",
    "    x = compute_saliency_cost(smoothness,w_bg,wCtr)\n",
    "\n",
    "    for v in vertices:\n",
    "        img_disp1[grid == v] = x[v]\n",
    "\n",
    "    img_disp2 = img_disp1.copy()\n",
    "    sal = np.zeros((img_disp1.shape[0],img_disp1.shape[1],3))\n",
    "\n",
    "    sal = img_disp2\n",
    "    sal_max = np.max(sal)\n",
    "    sal_min = np.min(sal)\n",
    "    sal = 255 * ((sal - sal_min) / (sal_max - sal_min))\n",
    "\n",
    "    return sal"
   ]
  },
  {
   "cell_type": "code",
   "execution_count": 3,
   "metadata": {
    "collapsed": true
   },
   "outputs": [],
   "source": [
    "def make_graph(grid):\n",
    "    # get unique labels\n",
    "    vertices = np.unique(grid)\n",
    "\n",
    "    # map unique labels to [1,...,num_labels]\n",
    "    reverse_dict = dict(zip(vertices,np.arange(len(vertices))))\n",
    "    grid = np.array([reverse_dict[x] for x in grid.flat]).reshape(grid.shape)\n",
    "\n",
    "    # create edges\n",
    "    down = np.c_[grid[:-1, :].ravel(), grid[1:, :].ravel()]\n",
    "    right = np.c_[grid[:, :-1].ravel(), grid[:, 1:].ravel()]\n",
    "    all_edges = np.vstack([right, down])\n",
    "    all_edges = all_edges[all_edges[:, 0] != all_edges[:, 1], :]\n",
    "    all_edges = np.sort(all_edges,axis=1)\n",
    "    num_vertices = len(vertices)\n",
    "    edge_hash = all_edges[:,0] + num_vertices * all_edges[:, 1]\n",
    "    # find unique connections\n",
    "    edges = np.unique(edge_hash)\n",
    "    # undo hashing\n",
    "    edges = [[vertices[x%num_vertices],\n",
    "              vertices[x/num_vertices]] for x in edges] \n",
    "\n",
    "    return vertices, edges"
   ]
  },
  {
   "cell_type": "code",
   "execution_count": 4,
   "metadata": {
    "collapsed": true
   },
   "outputs": [],
   "source": [
    "def path_length(path,G):\n",
    "    dist = 0.0\n",
    "    for i in xrange(1,len(path)):\n",
    "        dist += G[path[i - 1]][path[i]]['weight']\n",
    "    return dist"
   ]
  },
  {
   "cell_type": "code",
   "execution_count": 8,
   "metadata": {
    "collapsed": true
   },
   "outputs": [],
   "source": [
    "def S(x1,x2,geodesic,sigma_clr=10):\n",
    "    return math.exp(-pow(geodesic[x1,x2],2)/(2*sigma_clr*sigma_clr))"
   ]
  },
  {
   "cell_type": "code",
   "execution_count": 6,
   "metadata": {
    "collapsed": true
   },
   "outputs": [],
   "source": [
    "def compute_saliency_cost(smoothness,w_bg,wCtr):\n",
    "    n = len(w_bg)\n",
    "    A = np.zeros((n,n))\n",
    "    b = np.zeros((n))\n",
    "\n",
    "    for x in xrange(0,n):\n",
    "        A[x,x] = 2 * w_bg[x] + 2 * (wCtr[x])\n",
    "        b[x] = 2 * wCtr[x]\n",
    "        for y in xrange(0,n):\n",
    "            A[x,x] += 2 * smoothness[x,y]\n",
    "            A[x,y] -= 2 * smoothness[x,y]\n",
    "        \n",
    "    x = np.linalg.solve(A, b)\n",
    "\n",
    "    return x"
   ]
  },
  {
   "cell_type": "code",
   "execution_count": 11,
   "metadata": {
    "collapsed": false
   },
   "outputs": [],
   "source": [
    "img = get_saliency_rbd('/home/xli/Documents/2.1-Saliency-RBD/bird.jpg')"
   ]
  },
  {
   "cell_type": "code",
   "execution_count": 12,
   "metadata": {
    "collapsed": false
   },
   "outputs": [
    {
     "data": {
      "text/plain": [
       "(525, 775)"
      ]
     },
     "execution_count": 12,
     "metadata": {},
     "output_type": "execute_result"
    }
   ],
   "source": [
    "img.shape"
   ]
  },
  {
   "cell_type": "code",
   "execution_count": 13,
   "metadata": {
    "collapsed": true
   },
   "outputs": [],
   "source": [
    "import cv2\n",
    "source = cv2.imread('/home/xli/Documents/2.1-Saliency-RBD/bird.jpg')"
   ]
  },
  {
   "cell_type": "code",
   "execution_count": 14,
   "metadata": {
    "collapsed": false
   },
   "outputs": [
    {
     "data": {
      "text/plain": [
       "(525, 775, 3)"
      ]
     },
     "execution_count": 14,
     "metadata": {},
     "output_type": "execute_result"
    }
   ],
   "source": [
    "source.shape"
   ]
  },
  {
   "cell_type": "code",
   "execution_count": 15,
   "metadata": {
    "collapsed": false
   },
   "outputs": [
    {
     "data": {
      "text/plain": [
       "True"
      ]
     },
     "execution_count": 15,
     "metadata": {},
     "output_type": "execute_result"
    }
   ],
   "source": [
    "cv2.imwrite('bird-RBD.jp2',img)"
   ]
  },
  {
   "cell_type": "code",
   "execution_count": null,
   "metadata": {
    "collapsed": true
   },
   "outputs": [],
   "source": []
  }
 ],
 "metadata": {
  "kernelspec": {
   "display_name": "Python 2",
   "language": "python",
   "name": "python2"
  },
  "language_info": {
   "codemirror_mode": {
    "name": "ipython",
    "version": 2
   },
   "file_extension": ".py",
   "mimetype": "text/x-python",
   "name": "python",
   "nbconvert_exporter": "python",
   "pygments_lexer": "ipython2",
   "version": "2.7.13"
  }
 },
 "nbformat": 4,
 "nbformat_minor": 2
}
