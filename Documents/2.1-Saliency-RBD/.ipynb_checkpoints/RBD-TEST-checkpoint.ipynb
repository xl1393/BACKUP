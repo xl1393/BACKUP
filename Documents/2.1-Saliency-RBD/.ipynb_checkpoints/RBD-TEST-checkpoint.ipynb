{
 "cells": [
  {
   "cell_type": "code",
   "execution_count": 2,
   "metadata": {
    "collapsed": true
   },
   "outputs": [],
   "source": [
    "import math\n",
    "import sys\n",
    "import operator\n",
    "import networkx as nx\n",
    "#import matplotlib.pyplot as plt\n",
    "import numpy as np\n",
    "import scipy.spatial.distance\n",
    "import scipy.signal\n",
    "import skimage\n",
    "import skimage.io\n",
    "from skimage.segmentation import slic\n",
    "from skimage.util import img_as_float\n",
    "from scipy.optimize import minimize"
   ]
  },
  {
   "cell_type": "code",
   "execution_count": 1,
   "metadata": {
    "collapsed": true
   },
   "outputs": [],
   "source": [
    "def get_saliency_rbd(img_path):\n",
    "\n",
    "\t# Saliency map calculation based on:\n",
    "\t# Saliency Optimization from Robust Background Detection, Wangjiang Zhu, Shuang Liang, Yichen Wei and Jian Sun, IEEE Conference on Computer Vision and Pattern Recognition (CVPR), 2014\n",
    "\n",
    "\timg = skimage.io.imread(img_path)\n",
    "\n",
    "\tif len(img.shape) != 3: # got a grayscale image\n",
    "\t\timg = skimage.color.gray2rgb(img)\n",
    "\n",
    "\timg_lab = img_as_float(skimage.color.rgb2lab(img))\n",
    "\n",
    "\timg_rgb = img_as_float(img)\n",
    "\n",
    "\timg_gray = img_as_float(skimage.color.rgb2gray(img))\n",
    "\n",
    "\tsegments_slic = slic(img_rgb, n_segments=250, compactness=10, sigma=1, enforce_connectivity=False)\n",
    "\n",
    "\tnum_segments = len(np.unique(segments_slic))\n",
    "\n",
    "\tnrows, ncols = segments_slic.shape\n",
    "\tmax_dist = math.sqrt(nrows*nrows + ncols*ncols)\n",
    "\n",
    "\tgrid = segments_slic\n",
    "\n",
    "\t(vertices,edges) = make_graph(grid)\n",
    "\n",
    "\tgridx, gridy = np.mgrid[:grid.shape[0], :grid.shape[1]]\n",
    "\n",
    "\tcenters = dict()\n",
    "\tcolors = dict()\n",
    "\tdistances = dict()\n",
    "\tboundary = dict()\n",
    "\n",
    "\tfor v in vertices:\n",
    "\t\tcenters[v] = [gridy[grid == v].mean(), gridx[grid == v].mean()]\n",
    "\t\tcolors[v] = np.mean(img_lab[grid==v],axis=0)\n",
    "\n",
    "\t\tx_pix = gridx[grid == v]\n",
    "\t\ty_pix = gridy[grid == v]\n",
    "\n",
    "\t\tif np.any(x_pix == 0) or np.any(y_pix == 0) or np.any(x_pix == nrows - 1) or np.any(y_pix == ncols - 1):\n",
    "\t\t\tboundary[v] = 1\n",
    "\t\telse:\n",
    "\t\t\tboundary[v] = 0\n",
    "\n",
    "\tG = nx.Graph()\n",
    "\n",
    "\t#buid the graph\n",
    "\tfor edge in edges:\n",
    "\t\tpt1 = edge[0]\n",
    "\t\tpt2 = edge[1]\n",
    "\t\tcolor_distance = scipy.spatial.distance.euclidean(colors[pt1],colors[pt2])\n",
    "\t\tG.add_edge(pt1, pt2, weight=color_distance )\n",
    "\n",
    "\t#add a new edge in graph if edges are both on boundary\n",
    "\tfor v1 in vertices:\n",
    "\t\tif boundary[v1] == 1:\n",
    "\t\t\tfor v2 in vertices:\n",
    "\t\t\t\tif boundary[v2] == 1:\n",
    "\t\t\t\t\tcolor_distance = scipy.spatial.distance.euclidean(colors[v1],colors[v2])\n",
    "\t\t\t\t\tG.add_edge(v1,v2,weight=color_distance)\n",
    "\n",
    "\tgeodesic = np.zeros((len(vertices),len(vertices)),dtype=float)\n",
    "\tspatial = np.zeros((len(vertices),len(vertices)),dtype=float)\n",
    "\tsmoothness = np.zeros((len(vertices),len(vertices)),dtype=float)\n",
    "\tadjacency = np.zeros((len(vertices),len(vertices)),dtype=float)\n",
    "\n",
    "\tsigma_clr = 10.0\n",
    "\tsigma_bndcon = 1.0\n",
    "\tsigma_spa = 0.25\n",
    "\tmu = 0.1\n",
    "\n",
    "\tall_shortest_paths_color = nx.shortest_path(G,source=None,target=None,weight='weight')\n",
    "\n",
    "\tfor v1 in vertices:\n",
    "\t\tfor v2 in vertices:\n",
    "\t\t\tif v1 == v2:\n",
    "\t\t\t\tgeodesic[v1,v2] = 0\n",
    "\t\t\t\tspatial[v1,v2] = 0\n",
    "\t\t\t\tsmoothness[v1,v2] = 0\n",
    "\t\t\telse:\n",
    "\t\t\t\tgeodesic[v1,v2] = path_length(all_shortest_paths_color[v1][v2],G)\n",
    "\t\t\t\tspatial[v1,v2] = scipy.spatial.distance.euclidean(centers[v1],centers[v2]) / max_dist\n",
    "\t\t\t\tsmoothness[v1,v2] = math.exp( - (geodesic[v1,v2] * geodesic[v1,v2])/(2.0*sigma_clr*sigma_clr)) + mu \n",
    "\n",
    "\tfor edge in edges:\n",
    "\t\tpt1 = edge[0]\n",
    "\t\tpt2 = edge[1]\n",
    "\t\tadjacency[pt1,pt2] = 1\n",
    "\t\tadjacency[pt2,pt1] = 1\n",
    "\n",
    "\tfor v1 in vertices:\n",
    "\t\tfor v2 in vertices:\n",
    "\t\t\tsmoothness[v1,v2] = adjacency[v1,v2] * smoothness[v1,v2]\n",
    "\n",
    "\tarea = dict()\n",
    "\tlen_bnd = dict()\n",
    "\tbnd_con = dict()\n",
    "\tw_bg = dict()\n",
    "\tctr = dict()\n",
    "\twCtr = dict()\n",
    "\n",
    "\tfor v1 in vertices:\n",
    "\t\tarea[v1] = 0\n",
    "\t\tlen_bnd[v1] = 0\n",
    "\t\tctr[v1] = 0\n",
    "\t\tfor v2 in vertices:\n",
    "\t\t\td_app = geodesic[v1,v2]\n",
    "\t\t\td_spa = spatial[v1,v2]\n",
    "\t\t\tw_spa = math.exp(- ((d_spa)*(d_spa))/(2.0*sigma_spa*sigma_spa))\n",
    "\t\t\tarea_i = S(v1,v2,geodesic)\n",
    "\t\t\tarea[v1] += area_i\n",
    "\t\t\tlen_bnd[v1] += area_i * boundary[v2]\n",
    "\t\t\tctr[v1] += d_app * w_spa\n",
    "\t\tbnd_con[v1] = len_bnd[v1] / math.sqrt(area[v1])\n",
    "\t\tw_bg[v1] = 1.0 - math.exp(- (bnd_con[v1]*bnd_con[v1])/(2*sigma_bndcon*sigma_bndcon))\n",
    "\n",
    "\tfor v1 in vertices:\n",
    "\t\twCtr[v1] = 0\n",
    "\t\tfor v2 in vertices:\n",
    "\t\t\td_app = geodesic[v1,v2]\n",
    "\t\t\td_spa = spatial[v1,v2]\n",
    "\t\t\tw_spa = math.exp(- (d_spa*d_spa)/(2.0*sigma_spa*sigma_spa))\n",
    "\t\t\twCtr[v1] += d_app * w_spa *  w_bg[v2]\n",
    "\n",
    "\t# normalise value for wCtr\n",
    "\n",
    "\tmin_value = min(wCtr.values())\n",
    "\tmax_value = max(wCtr.values())\n",
    "\n",
    "\tminVal = [key for key, value in wCtr.iteritems() if value == min_value]\n",
    "\tmaxVal = [key for key, value in wCtr.iteritems() if value == max_value]\n",
    "\n",
    "\tfor v in vertices:\n",
    "\t\twCtr[v] = (wCtr[v] - min_value)/(max_value - min_value)\n",
    "\n",
    "\timg_disp1 = img_gray.copy()\n",
    "\timg_disp2 = img_gray.copy()\n",
    "\n",
    "\tx = compute_saliency_cost(smoothness,w_bg,wCtr)\n",
    "\n",
    "\tfor v in vertices:\n",
    "\t\timg_disp1[grid == v] = x[v]\n",
    "\n",
    "\timg_disp2 = img_disp1.copy()\n",
    "\tsal = np.zeros((img_disp1.shape[0],img_disp1.shape[1],3))\n",
    "\n",
    "\tsal = img_disp2\n",
    "\tsal_max = np.max(sal)\n",
    "\tsal_min = np.min(sal)\n",
    "\tsal = 255 * ((sal - sal_min) / (sal_max - sal_min))\n",
    "\n",
    "\treturn sal"
   ]
  },
  {
   "cell_type": "code",
   "execution_count": 4,
   "metadata": {
    "collapsed": true
   },
   "outputs": [],
   "source": [
    "def make_graph(grid):\n",
    "\t# get unique labels\n",
    "\tvertices = np.unique(grid)\n",
    " \n",
    "\t# map unique labels to [1,...,num_labels]\n",
    "\treverse_dict = dict(zip(vertices,np.arange(len(vertices))))\n",
    "\tgrid = np.array([reverse_dict[x] for x in grid.flat]).reshape(grid.shape)\n",
    "   \n",
    "\t# create edges\n",
    "\tdown = np.c_[grid[:-1, :].ravel(), grid[1:, :].ravel()]\n",
    "\tright = np.c_[grid[:, :-1].ravel(), grid[:, 1:].ravel()]\n",
    "\tall_edges = np.vstack([right, down])\n",
    "\tall_edges = all_edges[all_edges[:, 0] != all_edges[:, 1], :]\n",
    "\tall_edges = np.sort(all_edges,axis=1)\n",
    "\tnum_vertices = len(vertices)\n",
    "\tedge_hash = all_edges[:,0] + num_vertices * all_edges[:, 1]\n",
    "\t# find unique connections\n",
    "\tedges = np.unique(edge_hash)\n",
    "\t# undo hashing\n",
    "\tedges = [[vertices[x%num_vertices],\n",
    "\t\t\t  vertices[x/num_vertices]] for x in edges] \n",
    " \n",
    "\treturn vertices, edges"
   ]
  },
  {
   "cell_type": "code",
   "execution_count": 6,
   "metadata": {
    "collapsed": true
   },
   "outputs": [],
   "source": [
    "def path_length(path,G):\n",
    "\tdist = 0.0\n",
    "\tfor i in xrange(1,len(path)):\n",
    "\t\tdist += G[path[i - 1]][path[i]]['weight']\n",
    "\treturn dist"
   ]
  },
  {
   "cell_type": "code",
   "execution_count": 8,
   "metadata": {
    "collapsed": true
   },
   "outputs": [],
   "source": [
    "def S(x1,x2,geodesic,sigma_clr=10):\n",
    "\treturn math.exp(-pow(geodesic[x1,x2],2)/(2*sigma_clr*sigma_clr))"
   ]
  },
  {
   "cell_type": "code",
   "execution_count": 10,
   "metadata": {
    "collapsed": true
   },
   "outputs": [],
   "source": [
    "def compute_saliency_cost(smoothness,w_bg,wCtr):\n",
    "    n = len(w_bg)\n",
    "    A = np.zeros((n,n))\n",
    "    b = np.zeros((n))\n",
    "\n",
    "    for x in xrange(0,n):\n",
    "        A[x,x] = 2 * w_bg[x] + 2 * (wCtr[x])\n",
    "        b[x] = 2 * wCtr[x]\n",
    "        for y in xrange(0,n):\n",
    "            A[x,x] += 2 * smoothness[x,y]\n",
    "            A[x,y] -= 2 * smoothness[x,y]\n",
    "        \n",
    "    x = np.linalg.solve(A, b)\n",
    "\n",
    "    return x"
   ]
  },
  {
   "cell_type": "code",
   "execution_count": 11,
   "metadata": {
    "collapsed": false
   },
   "outputs": [],
   "source": [
    "img = get_saliency_rbd('/home/xli/Documents/2.1-Saliency-RBD/bird.jpg')"
   ]
  },
  {
   "cell_type": "code",
   "execution_count": 12,
   "metadata": {
    "collapsed": false
   },
   "outputs": [
    {
     "data": {
      "text/plain": [
       "(525, 775)"
      ]
     },
     "execution_count": 12,
     "metadata": {},
     "output_type": "execute_result"
    }
   ],
   "source": [
    "img.shape"
   ]
  },
  {
   "cell_type": "code",
   "execution_count": 13,
   "metadata": {
    "collapsed": true
   },
   "outputs": [],
   "source": [
    "import cv2\n",
    "source = cv2.imread('/home/xli/Documents/2.1-Saliency-RBD/bird.jpg')"
   ]
  },
  {
   "cell_type": "code",
   "execution_count": 14,
   "metadata": {
    "collapsed": false
   },
   "outputs": [
    {
     "data": {
      "text/plain": [
       "(525, 775, 3)"
      ]
     },
     "execution_count": 14,
     "metadata": {},
     "output_type": "execute_result"
    }
   ],
   "source": [
    "source.shape"
   ]
  },
  {
   "cell_type": "code",
   "execution_count": 15,
   "metadata": {
    "collapsed": false
   },
   "outputs": [
    {
     "data": {
      "text/plain": [
       "True"
      ]
     },
     "execution_count": 15,
     "metadata": {},
     "output_type": "execute_result"
    }
   ],
   "source": [
    "cv2.imwrite('bird-RBD.jp2',img)"
   ]
  },
  {
   "cell_type": "code",
   "execution_count": null,
   "metadata": {
    "collapsed": true
   },
   "outputs": [],
   "source": []
  }
 ],
 "metadata": {
  "kernelspec": {
   "display_name": "Python 2",
   "language": "python",
   "name": "python2"
  },
  "language_info": {
   "codemirror_mode": {
    "name": "ipython",
    "version": 2
   },
   "file_extension": ".py",
   "mimetype": "text/x-python",
   "name": "python",
   "nbconvert_exporter": "python",
   "pygments_lexer": "ipython2",
   "version": "2.7.13"
  }
 },
 "nbformat": 4,
 "nbformat_minor": 2
}
