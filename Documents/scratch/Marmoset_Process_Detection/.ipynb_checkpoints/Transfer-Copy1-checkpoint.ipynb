{
 "cells": [
  {
   "cell_type": "code",
   "execution_count": 8,
   "metadata": {
    "collapsed": false
   },
   "outputs": [],
   "source": [
    "import cv2\n",
    "import numpy as np\n",
    "import matplotlib.pyplot as plt\n",
    "import skimage.io\n",
    "#from matplotlib import subplo\n",
    "import scipy.io as sio\n",
    "from numpy import linalg as la\n",
    "from scipy.spatial import Delaunay, distance\n",
    "from scipy.stats import norm as normal\n",
    "from PIL import Image, ImageDraw\n",
    "import itertools\n",
    "import argparse\n",
    "import random\n",
    "import copy\n",
    "import json\n",
    "import h5py\n",
    "import multiprocessing\n",
    "import datetime\n",
    "from time import gmtime, strftime"
   ]
  },
  {
   "cell_type": "code",
   "execution_count": 2,
   "metadata": {
    "collapsed": true
   },
   "outputs": [],
   "source": [
    "def bilateral_filter( img, diameter, scolor, sspace, minthresh, ratio ):\n",
    "    \"\"\"\n",
    "    Blurs the borders, in order to remove lines drawn in the image, or\n",
    "    artifacts because the fabrication method.\n",
    "    \"\"\"\n",
    "    bilateral = cv2.bilateralFilter(img, diameter, scolor, sspace)\n",
    "    return bilateral\n"
   ]
  },
  {
   "cell_type": "code",
   "execution_count": 3,
   "metadata": {
    "collapsed": false
   },
   "outputs": [],
   "source": [
    "#img=cv2.imread('/scratch/data/PMD1464&1463-F31-2014.02.01-04.12.52_PMD1463_1_0091_lossless.jp2',-1)\n",
    "#img8=(img/16).astype('uint8')"
   ]
  },
  {
   "cell_type": "code",
   "execution_count": 4,
   "metadata": {
    "collapsed": false
   },
   "outputs": [],
   "source": [
    "#img8=1*img8+10\n",
    "#plt.figure(figsize=(20,20))\n",
    "#plt.imshow(img8[5000:10000,17000:20000,])\n",
    "#plt.show()"
   ]
  },
  {
   "cell_type": "code",
   "execution_count": 5,
   "metadata": {
    "collapsed": false
   },
   "outputs": [],
   "source": [
    "DataL=[]\n",
    "with open('/scratch/filenames.txt') as f:\n",
    "    #imglist = '/home/xli/Documents/scratch/Marmoset820MAT/' + f.readlines() + '.mat'\n",
    "    for line in f:\n",
    "        DataL.append('/home/xli/Documents/scratch/Marmoset820MAT/' + line.rstrip('\\n') + '.mat')"
   ]
  },
  {
   "cell_type": "code",
   "execution_count": null,
   "metadata": {
    "collapsed": false
   },
   "outputs": [],
   "source": [
    "def process_detect(file):\n",
    "    print 'processing'\n",
    "    img=h5py.File(file)\n",
    "    img=np.asarray(img['img'])\n",
    "    img=img.T\n",
    "    \n",
    "    img_bf=bilateral_filter(img,10,50,50,20,6)\n",
    "    \n",
    "    #for i in range(36000):\n",
    "        #for j in range(48000):\n",
    "            #if np.max(img_bf[i,j,:]) != img_bf[i,j,1]:\n",
    "                #img_bf[i,j,:] = 0\n",
    "    A = np.max(img_bf, axis = 2)\n",
    "    result = A != img_bf[:,:,1]\n",
    "    img_bf[A] = 0\n",
    "    img_bf_g_pass=np.copy(img_bf)\n",
    "\n",
    "    img_bf_g_pass[img_bf_g_pass<70]=0\n",
    "\n",
    "    cv2.imwrite('/home/xli/Documents/scratch/Marmoset820P/'+file+'.jp2',img_bf_g_pass)\n",
    "    \n",
    "    print file+' done'"
   ]
  },
  {
   "cell_type": "code",
   "execution_count": null,
   "metadata": {
    "collapsed": false
   },
   "outputs": [],
   "source": [
    "process_detect(DataL[243])"
   ]
  },
  {
   "cell_type": "code",
   "execution_count": 6,
   "metadata": {
    "collapsed": true
   },
   "outputs": [],
   "source": [
    "file=DataL[243]\n",
    "img=h5py.File(file)\n",
    "img=np.asarray(img['img'])\n",
    "img=img.T"
   ]
  },
  {
   "cell_type": "code",
   "execution_count": 10,
   "metadata": {
    "collapsed": false
   },
   "outputs": [
    {
     "name": "stdout",
     "output_type": "stream",
     "text": [
      "2017-04-26 04:52:53\n",
      "2017-04-26 04:53:23\n"
     ]
    }
   ],
   "source": [
    "print strftime(\"%Y-%m-%d %H:%M:%S\", gmtime())\n",
    "img_bf=bilateral_filter(img,10,50,50,20,6)\n",
    "print strftime(\"%Y-%m-%d %H:%M:%S\", gmtime())\n"
   ]
  },
  {
   "cell_type": "code",
   "execution_count": null,
   "metadata": {
    "collapsed": false
   },
   "outputs": [
    {
     "name": "stdout",
     "output_type": "stream",
     "text": [
      "2017-04-26 04:53:57\n"
     ]
    }
   ],
   "source": [
    "print strftime(\"%Y-%m-%d %H:%M:%S\", gmtime())\n",
    "\n",
    "A = np.max(img_bf, axis = 2)\n",
    "result = A != img_bf[:,:,1]\n",
    "img_bf[A] = 0\n",
    "print strftime(\"%Y-%m-%d %H:%M:%S\", gmtime())\n"
   ]
  },
  {
   "cell_type": "code",
   "execution_count": null,
   "metadata": {
    "collapsed": true
   },
   "outputs": [],
   "source": []
  },
  {
   "cell_type": "code",
   "execution_count": null,
   "metadata": {
    "collapsed": false
   },
   "outputs": [],
   "source": [
    "p=multiprocessing.Pool(3)\n",
    "p.map(process_detect,DataL)"
   ]
  },
  {
   "cell_type": "code",
   "execution_count": null,
   "metadata": {
    "collapsed": true
   },
   "outputs": [],
   "source": []
  },
  {
   "cell_type": "code",
   "execution_count": null,
   "metadata": {
    "collapsed": false
   },
   "outputs": [],
   "source": [
    "p=multiprocessing.Pool()\n",
    "for f in DataL[210:220]:\n",
    "    p.apply_async(process_detect,args=f)\n",
    "#p.close()\n",
    "#p.join()"
   ]
  },
  {
   "cell_type": "code",
   "execution_count": null,
   "metadata": {
    "collapsed": true
   },
   "outputs": [],
   "source": [
    "p=multiprocessing.Pool(processes=80)"
   ]
  },
  {
   "cell_type": "code",
   "execution_count": null,
   "metadata": {
    "collapsed": false
   },
   "outputs": [],
   "source": [
    "p.apply_async(process_detect,tuple(DataL[210:220]))"
   ]
  },
  {
   "cell_type": "code",
   "execution_count": null,
   "metadata": {
    "collapsed": false
   },
   "outputs": [],
   "source": [
    "#multi test\n",
    "def f(x):\n",
    "    return x*x\n",
    "p=multiprocessing.Pool(5)\n",
    "k=p.apply_async(f, (2,))\n",
    "k=p.apply_async(f, (4,))\n",
    "\n",
    "k.get(timeout=1)"
   ]
  },
  {
   "cell_type": "code",
   "execution_count": null,
   "metadata": {
    "collapsed": false
   },
   "outputs": [],
   "source": [
    "img=h5py.File('/scratch/Marmoset_Process_Detection/M820-F196--_3_0588.mat')\n",
    "img=np.asarray(img['img'])\n",
    "img=img.T"
   ]
  },
  {
   "cell_type": "code",
   "execution_count": null,
   "metadata": {
    "collapsed": false
   },
   "outputs": [],
   "source": [
    "img_bf=bilateral_filter(img,10,50,50,20,6)"
   ]
  },
  {
   "cell_type": "code",
   "execution_count": null,
   "metadata": {
    "collapsed": false
   },
   "outputs": [],
   "source": [
    "\n",
    "img=h5py.File(DataL[200])\n",
    "#img=np.asarray(img['img'])\n",
    "img.keys()"
   ]
  },
  {
   "cell_type": "code",
   "execution_count": null,
   "metadata": {
    "collapsed": false
   },
   "outputs": [],
   "source": [
    "#cv2.imwrite('F196-BF-200.jp2',img_bf)"
   ]
  },
  {
   "cell_type": "code",
   "execution_count": null,
   "metadata": {
    "collapsed": false
   },
   "outputs": [],
   "source": [
    "img_bf.shape"
   ]
  },
  {
   "cell_type": "code",
   "execution_count": null,
   "metadata": {
    "collapsed": false
   },
   "outputs": [],
   "source": [
    "#only preserve G is biggest?\n",
    "for i in range(36000):\n",
    "    for j in range(48000):\n",
    "        if np.max(img_bf[i,j,:]) != img_bf[i,j,1]:\n",
    "            img_bf[i,j,:] = 0"
   ]
  },
  {
   "cell_type": "code",
   "execution_count": null,
   "metadata": {
    "collapsed": false
   },
   "outputs": [],
   "source": [
    "img_bf[1000,1000,]"
   ]
  },
  {
   "cell_type": "code",
   "execution_count": null,
   "metadata": {
    "collapsed": false
   },
   "outputs": [],
   "source": [
    "cv2.imwrite('F196-BF-G.jp2',img_bf)"
   ]
  },
  {
   "cell_type": "code",
   "execution_count": null,
   "metadata": {
    "collapsed": false
   },
   "outputs": [],
   "source": [
    "img_bf_g_pass=np.copy(img_bf)\n",
    "\n",
    "img_bf_g_pass[img_bf_g_pass<70]=0\n",
    "\n",
    "\n",
    "\n",
    "cv2.imwrite('F196-BF-G-pass-70.jp2',img_bf_g_pass)"
   ]
  },
  {
   "cell_type": "code",
   "execution_count": null,
   "metadata": {
    "collapsed": false
   },
   "outputs": [],
   "source": [
    "img_bf_g_pass[1000,1000,]"
   ]
  },
  {
   "cell_type": "code",
   "execution_count": null,
   "metadata": {
    "collapsed": false
   },
   "outputs": [],
   "source": [
    "img_bf_g_pass==img_bf"
   ]
  },
  {
   "cell_type": "code",
   "execution_count": null,
   "metadata": {
    "collapsed": true
   },
   "outputs": [],
   "source": []
  }
 ],
 "metadata": {
  "kernelspec": {
   "display_name": "Python 2",
   "language": "python",
   "name": "python2"
  },
  "language_info": {
   "codemirror_mode": {
    "name": "ipython",
    "version": 2
   },
   "file_extension": ".py",
   "mimetype": "text/x-python",
   "name": "python",
   "nbconvert_exporter": "python",
   "pygments_lexer": "ipython2",
   "version": "2.7.13"
  }
 },
 "nbformat": 4,
 "nbformat_minor": 2
}
