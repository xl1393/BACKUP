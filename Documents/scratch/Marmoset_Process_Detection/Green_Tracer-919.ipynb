{
 "cells": [
  {
   "cell_type": "code",
   "execution_count": 1,
   "metadata": {
    "collapsed": false
   },
   "outputs": [],
   "source": [
    "import cv2\n",
    "import numpy as np\n",
    "import matplotlib.pyplot as plt\n",
    "import skimage.io\n",
    "#from matplotlib import subplo\n",
    "import scipy.io as sio\n",
    "from numpy import linalg as la\n",
    "from scipy.spatial import Delaunay, distance\n",
    "from scipy.stats import norm as normal\n",
    "from PIL import Image, ImageDraw\n",
    "import itertools\n",
    "import argparse\n",
    "import random\n",
    "import copy\n",
    "import json\n",
    "import h5py\n",
    "import multiprocessing\n",
    "import datetime\n",
    "from time import gmtime, strftime"
   ]
  },
  {
   "cell_type": "code",
   "execution_count": 2,
   "metadata": {
    "collapsed": true
   },
   "outputs": [],
   "source": [
    "def bilateral_filter( img, diameter, scolor, sspace, minthresh, ratio ):\n",
    "    \"\"\"\n",
    "    Blurs the borders, in order to remove lines drawn in the image, or\n",
    "    artifacts because the fabrication method.\n",
    "    \"\"\"\n",
    "    bilateral = cv2.bilateralFilter(img, diameter, scolor, sspace)\n",
    "    return bilateral\n"
   ]
  },
  {
   "cell_type": "code",
   "execution_count": 3,
   "metadata": {
    "collapsed": false
   },
   "outputs": [],
   "source": [
    "#img=cv2.imread('/scratch/data/PMD1464&1463-F31-2014.02.01-04.12.52_PMD1463_1_0091_lossless.jp2',-1)\n",
    "#img8=(img/16).astype('uint8')"
   ]
  },
  {
   "cell_type": "code",
   "execution_count": 4,
   "metadata": {
    "collapsed": false
   },
   "outputs": [],
   "source": [
    "#img8=1*img8+10\n",
    "#plt.figure(figsize=(20,20))\n",
    "#plt.imshow(img8[5000:10000,17000:20000,])\n",
    "#plt.show()"
   ]
  },
  {
   "cell_type": "code",
   "execution_count": 5,
   "metadata": {
    "collapsed": false
   },
   "outputs": [],
   "source": [
    "DataL=[]\n",
    "with open('/home/xli/Documents/scratch/Marmoset_Process_Detection/M919filenames.txt') as f:\n",
    "    #imglist = '/home/xli/Documents/scratch/Marmoset820MAT/' + f.readlines() + '.mat'\n",
    "    for line in f:\n",
    "        DataL.append('/home/xli/Documents/scratch/Marmoset919MAT/' + line.rstrip('\\n') + '.mat')"
   ]
  },
  {
   "cell_type": "code",
   "execution_count": 6,
   "metadata": {
    "collapsed": false
   },
   "outputs": [],
   "source": [
    "def process_detect(file):\n",
    "    print 'processing '+file\n",
    "    img=h5py.File(file)\n",
    "    img=np.asarray(img['img'])\n",
    "    img=img.T\n",
    "    img=cv2.convertScaleAbs(img)#convert to 8 bits for bilateral filter\n",
    "    \n",
    "    img_bf=bilateral_filter(img,10,50,50,20,6)\n",
    "    \n",
    "    #for i in range(36000):\n",
    "        #for j in range(48000):\n",
    "            #if np.max(img_bf[i,j,:]) != img_bf[i,j,1]:\n",
    "                #img_bf[i,j,:] = 0\n",
    "    A = np.max(img_bf, axis = 2)\n",
    "    result = A != img_bf[:,:,1]\n",
    "    img_bf[result] = 0\n",
    "    #img_bf_g_pass=np.copy(img_bf)\n",
    "    cstr1= img_bf[:,:,1] < img_bf[:,:,0]+20\n",
    "    cstr2= img_bf[:,:,1] < img_bf[:,:,2]+20\n",
    "\n",
    "    #print cstrl1.shape\n",
    "\n",
    "    img_bf[cstr1] = 0\n",
    "    img_bf[cstr2] = 0\n",
    "\n",
    "    img_bf[img_bf<70]=0\n",
    "\n",
    "    cv2.imwrite(file.split('.')[0]+'_process.jp2',img_bf)\n",
    "    \n",
    "    print file+' done'"
   ]
  },
  {
   "cell_type": "code",
   "execution_count": 7,
   "metadata": {
    "collapsed": false
   },
   "outputs": [
    {
     "data": {
      "text/plain": [
       "337"
      ]
     },
     "execution_count": 7,
     "metadata": {},
     "output_type": "execute_result"
    }
   ],
   "source": [
    "len(DataL)"
   ]
  },
  {
   "cell_type": "code",
   "execution_count": null,
   "metadata": {
    "collapsed": false,
    "scrolled": true
   },
   "outputs": [
    {
     "name": "stdout",
     "output_type": "stream",
     "text": [
      "processing /home/xli/Documents/scratch/Marmoset919MAT/M919-F100--_3_0300.jp2.mat\n",
      "processing /home/xli/Documents/scratch/Marmoset919MAT/M919-F121--_3_0363.jp2.mat\n",
      "processing /home/xli/Documents/scratch/Marmoset919MAT/M919-F13--_2_0038.jp2.mat\n",
      "processing /home/xli/Documents/scratch/Marmoset919MAT/M919-F142--_2_0425.jp2.mat\n",
      "/home/xli/Documents/scratch/Marmoset919MAT/M919-F13--_2_0038.jp2.mat done\n",
      "processing /home/xli/Documents/scratch/Marmoset919MAT/M919-F132--_2_0395.jp2.mat\n",
      "/home/xli/Documents/scratch/Marmoset919MAT/M919-F142--_2_0425.jp2.mat done\n",
      "processing /home/xli/Documents/scratch/Marmoset919MAT/M919-F142--_3_0426.jp2.mat\n",
      "/home/xli/Documents/scratch/Marmoset919MAT/M919-F121--_3_0363.jp2.mat done\n",
      "processing /home/xli/Documents/scratch/Marmoset919MAT/M919-F12--_2_0035.jp2.mat\n",
      "/home/xli/Documents/scratch/Marmoset919MAT/M919-F100--_3_0300.jp2.mat done\n",
      "processing /home/xli/Documents/scratch/Marmoset919MAT/M919-F101--_3_0303.jp2.mat\n",
      "/home/xli/Documents/scratch/Marmoset919MAT/M919-F132--_2_0395.jp2.mat done\n",
      "processing /home/xli/Documents/scratch/Marmoset919MAT/M919-F132--_3_0396.jp2.mat\n",
      "/home/xli/Documents/scratch/Marmoset919MAT/M919-F12--_2_0035.jp2.mat done\n",
      "processing /home/xli/Documents/scratch/Marmoset919MAT/M919-F122--_2_0365.jp2.mat\n",
      "/home/xli/Documents/scratch/Marmoset919MAT/M919-F142--_3_0426.jp2.mat done\n",
      "processing /home/xli/Documents/scratch/Marmoset919MAT/M919-F14--_3_0042.jp2.mat\n",
      "/home/xli/Documents/scratch/Marmoset919MAT/M919-F101--_3_0303.jp2.mat done\n",
      "processing /home/xli/Documents/scratch/Marmoset919MAT/M919-F10--_2_0029.jp2.mat\n",
      "/home/xli/Documents/scratch/Marmoset919MAT/M919-F132--_3_0396.jp2.mat done\n",
      "processing /home/xli/Documents/scratch/Marmoset919MAT/M919-F13--_3_0039.jp2.mat\n",
      "/home/xli/Documents/scratch/Marmoset919MAT/M919-F14--_3_0042.jp2.mat done\n",
      "/home/xli/Documents/scratch/Marmoset919MAT/M919-F122--_2_0365.jp2.mat done\n",
      "processing /home/xli/Documents/scratch/Marmoset919MAT/M919-F143--_2_0428.jp2.mat\n",
      "processing /home/xli/Documents/scratch/Marmoset919MAT/M919-F122--_3_0366.jp2.mat\n",
      "/home/xli/Documents/scratch/Marmoset919MAT/M919-F10--_2_0029.jp2.mat done\n",
      "processing /home/xli/Documents/scratch/Marmoset919MAT/M919-F102--_3_0306.jp2.mat\n",
      "/home/xli/Documents/scratch/Marmoset919MAT/M919-F13--_3_0039.jp2.mat done\n",
      "processing /home/xli/Documents/scratch/Marmoset919MAT/M919-F133--_2_0398.jp2.mat\n",
      "/home/xli/Documents/scratch/Marmoset919MAT/M919-F122--_3_0366.jp2.mat done\n",
      "processing /home/xli/Documents/scratch/Marmoset919MAT/M919-F12--_3_0036.jp2.mat\n",
      "/home/xli/Documents/scratch/Marmoset919MAT/M919-F143--_2_0428.jp2.mat done\n",
      "processing /home/xli/Documents/scratch/Marmoset919MAT/M919-F143--_3_0429.jp2.mat\n",
      "/home/xli/Documents/scratch/Marmoset919MAT/M919-F102--_3_0306.jp2.mat done\n",
      "processing /home/xli/Documents/scratch/Marmoset919MAT/M919-F10--_3_0030.jp2.mat\n",
      "/home/xli/Documents/scratch/Marmoset919MAT/M919-F133--_2_0398.jp2.mat done\n",
      "processing /home/xli/Documents/scratch/Marmoset919MAT/M919-F133--_3_0399.jp2.mat\n",
      "/home/xli/Documents/scratch/Marmoset919MAT/M919-F10--_3_0030.jp2.mat done\n",
      "processing /home/xli/Documents/scratch/Marmoset919MAT/M919-F103--_3_0309.jp2.mat\n",
      "/home/xli/Documents/scratch/Marmoset919MAT/M919-F12--_3_0036.jp2.mat done\n",
      "processing /home/xli/Documents/scratch/Marmoset919MAT/M919-F123--_2_0368.jp2.mat\n",
      "/home/xli/Documents/scratch/Marmoset919MAT/M919-F143--_3_0429.jp2.mat done\n",
      "processing /home/xli/Documents/scratch/Marmoset919MAT/M919-F144--_2_0431.jp2.mat\n",
      "/home/xli/Documents/scratch/Marmoset919MAT/M919-F133--_3_0399.jp2.mat done\n",
      "processing /home/xli/Documents/scratch/Marmoset919MAT/M919-F134--_2_0401.jp2.mat\n",
      "/home/xli/Documents/scratch/Marmoset919MAT/M919-F103--_3_0309.jp2.mat done\n",
      "processing /home/xli/Documents/scratch/Marmoset919MAT/M919-F104--_3_0312.jp2.mat\n",
      "/home/xli/Documents/scratch/Marmoset919MAT/M919-F144--_2_0431.jp2.mat done\n",
      "processing /home/xli/Documents/scratch/Marmoset919MAT/M919-F144--_3_0432.jp2.mat\n",
      "/home/xli/Documents/scratch/Marmoset919MAT/M919-F123--_2_0368.jp2.mat done\n",
      "processing /home/xli/Documents/scratch/Marmoset919MAT/M919-F123--_3_0369.jp2.mat\n",
      "/home/xli/Documents/scratch/Marmoset919MAT/M919-F134--_2_0401.jp2.mat done\n",
      "processing /home/xli/Documents/scratch/Marmoset919MAT/M919-F134--_3_0402.jp2.mat\n",
      "/home/xli/Documents/scratch/Marmoset919MAT/M919-F144--_3_0432.jp2.mat done\n",
      "processing /home/xli/Documents/scratch/Marmoset919MAT/M919-F145--_2_0434.jp2.mat\n",
      "/home/xli/Documents/scratch/Marmoset919MAT/M919-F123--_3_0369.jp2.mat done\n",
      "processing /home/xli/Documents/scratch/Marmoset919MAT/M919-F124--_2_0371.jp2.mat\n",
      "/home/xli/Documents/scratch/Marmoset919MAT/M919-F104--_3_0312.jp2.mat done\n",
      "processing /home/xli/Documents/scratch/Marmoset919MAT/M919-F105--_3_0315.jp2.mat\n",
      "/home/xli/Documents/scratch/Marmoset919MAT/M919-F134--_3_0402.jp2.mat done\n",
      "processing /home/xli/Documents/scratch/Marmoset919MAT/M919-F135--_2_0404.jp2.mat\n",
      "/home/xli/Documents/scratch/Marmoset919MAT/M919-F145--_2_0434.jp2.mat done\n",
      "processing /home/xli/Documents/scratch/Marmoset919MAT/M919-F145--_3_0435.jp2.mat\n",
      "/home/xli/Documents/scratch/Marmoset919MAT/M919-F105--_3_0315.jp2.mat done\n",
      "processing /home/xli/Documents/scratch/Marmoset919MAT/M919-F106--_3_0318.jp2.mat\n",
      "/home/xli/Documents/scratch/Marmoset919MAT/M919-F124--_2_0371.jp2.mat done\n",
      "processing /home/xli/Documents/scratch/Marmoset919MAT/M919-F124--_3_0372.jp2.mat\n",
      "/home/xli/Documents/scratch/Marmoset919MAT/M919-F135--_2_0404.jp2.mat done\n",
      "processing /home/xli/Documents/scratch/Marmoset919MAT/M919-F135--_3_0405.jp2.mat\n",
      "/home/xli/Documents/scratch/Marmoset919MAT/M919-F106--_3_0318.jp2.mat done\n",
      "processing /home/xli/Documents/scratch/Marmoset919MAT/M919-F107--_3_0321.jp2.mat\n",
      "/home/xli/Documents/scratch/Marmoset919MAT/M919-F145--_3_0435.jp2.mat done\n",
      "processing /home/xli/Documents/scratch/Marmoset919MAT/M919-F146--_2_0437.jp2.mat\n",
      "/home/xli/Documents/scratch/Marmoset919MAT/M919-F124--_3_0372.jp2.mat done\n",
      "processing /home/xli/Documents/scratch/Marmoset919MAT/M919-F125--_2_0374.jp2.mat\n",
      "/home/xli/Documents/scratch/Marmoset919MAT/M919-F135--_3_0405.jp2.mat done\n",
      "processing /home/xli/Documents/scratch/Marmoset919MAT/M919-F136--_2_0407.jp2.mat\n",
      "/home/xli/Documents/scratch/Marmoset919MAT/M919-F107--_3_0321.jp2.mat done\n",
      "processing /home/xli/Documents/scratch/Marmoset919MAT/M919-F108--_3_0324.jp2.mat\n",
      "/home/xli/Documents/scratch/Marmoset919MAT/M919-F146--_2_0437.jp2.mat done\n",
      "processing /home/xli/Documents/scratch/Marmoset919MAT/M919-F146--_3_0438.jp2.mat\n",
      "/home/xli/Documents/scratch/Marmoset919MAT/M919-F125--_2_0374.jp2.mat done\n",
      "processing /home/xli/Documents/scratch/Marmoset919MAT/M919-F125--_3_0375.jp2.mat\n",
      "/home/xli/Documents/scratch/Marmoset919MAT/M919-F108--_3_0324.jp2.mat done\n",
      "processing /home/xli/Documents/scratch/Marmoset919MAT/M919-F109--_3_0327.jp2.mat\n",
      "/home/xli/Documents/scratch/Marmoset919MAT/M919-F136--_2_0407.jp2.mat done\n",
      "processing /home/xli/Documents/scratch/Marmoset919MAT/M919-F136--_3_0408.jp2.mat\n",
      "/home/xli/Documents/scratch/Marmoset919MAT/M919-F146--_3_0438.jp2.mat done\n",
      "processing /home/xli/Documents/scratch/Marmoset919MAT/M919-F147--_2_0440.jp2.mat\n",
      "/home/xli/Documents/scratch/Marmoset919MAT/M919-F125--_3_0375.jp2.mat done\n",
      "processing /home/xli/Documents/scratch/Marmoset919MAT/M919-F126--_2_0377.jp2.mat\n",
      "/home/xli/Documents/scratch/Marmoset919MAT/M919-F109--_3_0327.jp2.mat done\n",
      "processing /home/xli/Documents/scratch/Marmoset919MAT/M919-F110--_3_0330.jp2.mat\n",
      "/home/xli/Documents/scratch/Marmoset919MAT/M919-F136--_3_0408.jp2.mat done\n",
      "processing /home/xli/Documents/scratch/Marmoset919MAT/M919-F137--_2_0410.jp2.mat\n",
      "/home/xli/Documents/scratch/Marmoset919MAT/M919-F147--_2_0440.jp2.mat done\n",
      "processing /home/xli/Documents/scratch/Marmoset919MAT/M919-F147--_3_0441.jp2.mat\n",
      "/home/xli/Documents/scratch/Marmoset919MAT/M919-F126--_2_0377.jp2.mat done\n",
      "processing /home/xli/Documents/scratch/Marmoset919MAT/M919-F126--_3_0378.jp2.mat\n",
      "processing /home/xli/Documents/scratch/Marmoset919MAT/M919-F152--_2_0455.jp2.mat\n",
      "/home/xli/Documents/scratch/Marmoset919MAT/M919-F147--_3_0441.jp2.mat done\n",
      "processing /home/xli/Documents/scratch/Marmoset919MAT/M919-F148--_2_0443.jp2.mat\n",
      "/home/xli/Documents/scratch/Marmoset919MAT/M919-F137--_2_0410.jp2.mat done\n",
      "processing /home/xli/Documents/scratch/Marmoset919MAT/M919-F137--_3_0411.jp2.mat\n",
      "/home/xli/Documents/scratch/Marmoset919MAT/M919-F126--_3_0378.jp2.mat done\n",
      "processing /home/xli/Documents/scratch/Marmoset919MAT/M919-F127--_2_0380.jp2.mat\n",
      "/home/xli/Documents/scratch/Marmoset919MAT/M919-F152--_2_0455.jp2.mat done\n",
      "processing /home/xli/Documents/scratch/Marmoset919MAT/M919-F152--_3_0456.jp2.mat\n",
      "/home/xli/Documents/scratch/Marmoset919MAT/M919-F148--_2_0443.jp2.mat done\n",
      "processing /home/xli/Documents/scratch/Marmoset919MAT/M919-F148--_3_0444.jp2.mat\n",
      "/home/xli/Documents/scratch/Marmoset919MAT/M919-F127--_2_0380.jp2.mat done\n",
      "processing /home/xli/Documents/scratch/Marmoset919MAT/M919-F127--_3_0381.jp2.mat\n",
      "/home/xli/Documents/scratch/Marmoset919MAT/M919-F137--_3_0411.jp2.mat done\n",
      "processing /home/xli/Documents/scratch/Marmoset919MAT/M919-F138--_2_0413.jp2.mat\n",
      "/home/xli/Documents/scratch/Marmoset919MAT/M919-F152--_3_0456.jp2.mat done\n",
      "processing /home/xli/Documents/scratch/Marmoset919MAT/M919-F15--_3_0045.jp2.mat\n",
      "processing /home/xli/Documents/scratch/Marmoset919MAT/M919-F162--_3_0486.jp2.mat\n",
      "processing /home/xli/Documents/scratch/Marmoset919MAT/M919-F172--_3_0516.jp2.mat\n",
      "processing /home/xli/Documents/scratch/Marmoset919MAT/M919-F183--_2_0548.jp2.mat\n",
      "processing /home/xli/Documents/scratch/Marmoset919MAT/M919-F193--_2_0578.jp2.mat\n",
      "processing /home/xli/Documents/scratch/Marmoset919MAT/M919-F203--_2_0608.jp2.mat\n",
      "processing /home/xli/Documents/scratch/Marmoset919MAT/M919-F29--_2_0086.jp2.mat\n",
      "/home/xli/Documents/scratch/Marmoset919MAT/M919-F172--_3_0516.jp2.mat done\n",
      "processing /home/xli/Documents/scratch/Marmoset919MAT/M919-F17--_3_0051.jp2.mat\n",
      "/home/xli/Documents/scratch/Marmoset919MAT/M919-F193--_2_0578.jp2.mat done\n",
      "processing /home/xli/Documents/scratch/Marmoset919MAT/M919-F193--_3_0579.jp2.mat\n",
      "/home/xli/Documents/scratch/Marmoset919MAT/M919-F203--_2_0608.jp2.mat done\n",
      "processing /home/xli/Documents/scratch/Marmoset919MAT/M919-F203--_3_0609.jp2.mat\n",
      "/home/xli/Documents/scratch/Marmoset919MAT/M919-F29--_2_0086.jp2.mat done\n",
      "processing /home/xli/Documents/scratch/Marmoset919MAT/M919-F29--_3_0087.jp2.mat\n",
      "/home/xli/Documents/scratch/Marmoset919MAT/M919-F17--_3_0051.jp2.mat done\n",
      "processing /home/xli/Documents/scratch/Marmoset919MAT/M919-F173--_2_0518.jp2.mat\n",
      "/home/xli/Documents/scratch/Marmoset919MAT/M919-F193--_3_0579.jp2.mat done\n",
      "processing /home/xli/Documents/scratch/Marmoset919MAT/M919-F194--_2_0581.jp2.mat\n",
      "/home/xli/Documents/scratch/Marmoset919MAT/M919-F203--_3_0609.jp2.mat done\n",
      "processing /home/xli/Documents/scratch/Marmoset919MAT/M919-F204--_2_0611.jp2.mat\n",
      "/home/xli/Documents/scratch/Marmoset919MAT/M919-F29--_3_0087.jp2.mat done\n",
      "processing /home/xli/Documents/scratch/Marmoset919MAT/M919-F30--_2_0089.jp2.mat\n",
      "/home/xli/Documents/scratch/Marmoset919MAT/M919-F173--_2_0518.jp2.mat done\n",
      "processing /home/xli/Documents/scratch/Marmoset919MAT/M919-F173--_3_0519.jp2.mat\n",
      "/home/xli/Documents/scratch/Marmoset919MAT/M919-F194--_2_0581.jp2.mat done\n",
      "processing /home/xli/Documents/scratch/Marmoset919MAT/M919-F194--_3_0582.jp2.mat\n",
      "/home/xli/Documents/scratch/Marmoset919MAT/M919-F204--_2_0611.jp2.mat done\n",
      "processing /home/xli/Documents/scratch/Marmoset919MAT/M919-F204--_3_0612.jp2.mat\n",
      "/home/xli/Documents/scratch/Marmoset919MAT/M919-F30--_2_0089.jp2.mat done\n",
      "processing /home/xli/Documents/scratch/Marmoset919MAT/M919-F30--_3_0090.jp2.mat\n",
      "/home/xli/Documents/scratch/Marmoset919MAT/M919-F173--_3_0519.jp2.mat done\n",
      "processing /home/xli/Documents/scratch/Marmoset919MAT/M919-F174--_2_0521.jp2.mat\n",
      "/home/xli/Documents/scratch/Marmoset919MAT/M919-F194--_3_0582.jp2.mat done\n",
      "processing /home/xli/Documents/scratch/Marmoset919MAT/M919-F195--_2_0584.jp2.mat\n",
      "/home/xli/Documents/scratch/Marmoset919MAT/M919-F204--_3_0612.jp2.mat done\n",
      "processing /home/xli/Documents/scratch/Marmoset919MAT/M919-F205--_2_0614.jp2.mat\n",
      "/home/xli/Documents/scratch/Marmoset919MAT/M919-F30--_3_0090.jp2.mat done\n",
      "processing /home/xli/Documents/scratch/Marmoset919MAT/M919-F31--_2_0092.jp2.mat\n",
      "/home/xli/Documents/scratch/Marmoset919MAT/M919-F174--_2_0521.jp2.mat done\n",
      "processing /home/xli/Documents/scratch/Marmoset919MAT/M919-F174--_3_0522.jp2.mat\n",
      "processing /home/xli/Documents/scratch/Marmoset919MAT/M919-F40--_2_0119.jp2.mat\n",
      "/home/xli/Documents/scratch/Marmoset919MAT/M919-F205--_2_0614.jp2.mat done\n",
      "processing /home/xli/Documents/scratch/Marmoset919MAT/M919-F205--_3_0615.jp2.mat\n"
     ]
    }
   ],
   "source": [
    "p=multiprocessing.Pool(4)\n",
    "p.map(process_detect,DataL)"
   ]
  },
  {
   "cell_type": "code",
   "execution_count": 7,
   "metadata": {
    "collapsed": false
   },
   "outputs": [
    {
     "name": "stdout",
     "output_type": "stream",
     "text": [
      "2017-04-26 05:09:47\n",
      "2017-04-26 05:10:03\n"
     ]
    }
   ],
   "source": [
    "print strftime(\"%Y-%m-%d %H:%M:%S\", gmtime())\n",
    "\n",
    "file=DataL[243]\n",
    "img=h5py.File(file)\n",
    "img=np.asarray(img['img'])\n",
    "img=img.T\n",
    "print strftime(\"%Y-%m-%d %H:%M:%S\", gmtime())\n"
   ]
  },
  {
   "cell_type": "code",
   "execution_count": 8,
   "metadata": {
    "collapsed": false
   },
   "outputs": [
    {
     "name": "stdout",
     "output_type": "stream",
     "text": [
      "2017-04-26 05:10:03\n",
      "2017-04-26 05:10:34\n"
     ]
    }
   ],
   "source": [
    "print strftime(\"%Y-%m-%d %H:%M:%S\", gmtime())\n",
    "img_bf=bilateral_filter(img,10,50,50,20,6)\n",
    "print strftime(\"%Y-%m-%d %H:%M:%S\", gmtime())\n"
   ]
  },
  {
   "cell_type": "code",
   "execution_count": 9,
   "metadata": {
    "collapsed": false
   },
   "outputs": [
    {
     "name": "stdout",
     "output_type": "stream",
     "text": [
      "2017-04-26 05:10:34\n",
      "2017-04-26 05:11:02\n"
     ]
    }
   ],
   "source": [
    "print strftime(\"%Y-%m-%d %H:%M:%S\", gmtime())\n",
    "\n",
    "A = np.max(img_bf, axis = 2)\n",
    "result = A != img_bf[:,:,1]\n",
    "img_bf[result] = 0\n",
    "print strftime(\"%Y-%m-%d %H:%M:%S\", gmtime())\n"
   ]
  },
  {
   "cell_type": "code",
   "execution_count": 11,
   "metadata": {
    "collapsed": false
   },
   "outputs": [
    {
     "name": "stdout",
     "output_type": "stream",
     "text": [
      "2017-04-26 05:11:18\n",
      "2017-04-26 05:11:26\n"
     ]
    }
   ],
   "source": [
    "print strftime(\"%Y-%m-%d %H:%M:%S\", gmtime())\n",
    "img_bf[img_bf<60]=0\n",
    "print strftime(\"%Y-%m-%d %H:%M:%S\", gmtime())\n"
   ]
  },
  {
   "cell_type": "code",
   "execution_count": 13,
   "metadata": {
    "collapsed": false
   },
   "outputs": [
    {
     "name": "stdout",
     "output_type": "stream",
     "text": [
      "2017-04-26 05:14:25\n",
      "2017-04-26 05:17:19\n"
     ]
    }
   ],
   "source": [
    "print strftime(\"%Y-%m-%d %H:%M:%S\", gmtime())\n",
    "cv2.imwrite('/home/xli/Documents/scratch/Marmoset820P/test.jp2',img_bf)\n",
    "print strftime(\"%Y-%m-%d %H:%M:%S\", gmtime())"
   ]
  },
  {
   "cell_type": "code",
   "execution_count": 17,
   "metadata": {
    "collapsed": false
   },
   "outputs": [
    {
     "data": {
      "text/plain": [
       "'/home/xli/Documents/scratch/Marmoset820MAT/M820-F196--_3_0588_process.jp2'"
      ]
     },
     "execution_count": 17,
     "metadata": {},
     "output_type": "execute_result"
    }
   ],
   "source": [
    "file.split('.')[0]+'_process.jp2'"
   ]
  },
  {
   "cell_type": "code",
   "execution_count": null,
   "metadata": {
    "collapsed": false
   },
   "outputs": [],
   "source": [
    "p=multiprocessing.Pool(3)\n",
    "p.map(process_detect,DataL)"
   ]
  },
  {
   "cell_type": "code",
   "execution_count": null,
   "metadata": {
    "collapsed": true
   },
   "outputs": [],
   "source": []
  },
  {
   "cell_type": "code",
   "execution_count": null,
   "metadata": {
    "collapsed": false
   },
   "outputs": [],
   "source": [
    "p=multiprocessing.Pool()\n",
    "for f in DataL[210:220]:\n",
    "    p.apply_async(process_detect,args=f)\n",
    "#p.close()\n",
    "#p.join()"
   ]
  },
  {
   "cell_type": "code",
   "execution_count": null,
   "metadata": {
    "collapsed": true
   },
   "outputs": [],
   "source": [
    "p=multiprocessing.Pool(processes=80)"
   ]
  },
  {
   "cell_type": "code",
   "execution_count": null,
   "metadata": {
    "collapsed": false
   },
   "outputs": [],
   "source": [
    "p.apply_async(process_detect,tuple(DataL[210:220]))"
   ]
  },
  {
   "cell_type": "code",
   "execution_count": null,
   "metadata": {
    "collapsed": false
   },
   "outputs": [],
   "source": [
    "#multi test\n",
    "def f(x):\n",
    "    return x*x\n",
    "p=multiprocessing.Pool(5)\n",
    "k=p.apply_async(f, (2,))\n",
    "k=p.apply_async(f, (4,))\n",
    "\n",
    "k.get(timeout=1)"
   ]
  },
  {
   "cell_type": "code",
   "execution_count": null,
   "metadata": {
    "collapsed": false
   },
   "outputs": [],
   "source": [
    "img=h5py.File('/scratch/Marmoset_Process_Detection/M820-F196--_3_0588.mat')\n",
    "img=np.asarray(img['img'])\n",
    "img=img.T"
   ]
  },
  {
   "cell_type": "code",
   "execution_count": null,
   "metadata": {
    "collapsed": false
   },
   "outputs": [],
   "source": [
    "img_bf=bilateral_filter(img,10,50,50,20,6)"
   ]
  },
  {
   "cell_type": "code",
   "execution_count": null,
   "metadata": {
    "collapsed": false
   },
   "outputs": [],
   "source": [
    "\n",
    "img=h5py.File(DataL[200])\n",
    "#img=np.asarray(img['img'])\n",
    "img.keys()"
   ]
  },
  {
   "cell_type": "code",
   "execution_count": null,
   "metadata": {
    "collapsed": false
   },
   "outputs": [],
   "source": [
    "#cv2.imwrite('F196-BF-200.jp2',img_bf)"
   ]
  },
  {
   "cell_type": "code",
   "execution_count": null,
   "metadata": {
    "collapsed": false
   },
   "outputs": [],
   "source": [
    "img_bf.shape"
   ]
  },
  {
   "cell_type": "code",
   "execution_count": null,
   "metadata": {
    "collapsed": false
   },
   "outputs": [],
   "source": [
    "#only preserve G is biggest?\n",
    "for i in range(36000):\n",
    "    for j in range(48000):\n",
    "        if np.max(img_bf[i,j,:]) != img_bf[i,j,1]:\n",
    "            img_bf[i,j,:] = 0"
   ]
  },
  {
   "cell_type": "code",
   "execution_count": null,
   "metadata": {
    "collapsed": false
   },
   "outputs": [],
   "source": [
    "img_bf[1000,1000,]"
   ]
  },
  {
   "cell_type": "code",
   "execution_count": null,
   "metadata": {
    "collapsed": false
   },
   "outputs": [],
   "source": [
    "cv2.imwrite('F196-BF-G.jp2',img_bf)"
   ]
  },
  {
   "cell_type": "code",
   "execution_count": null,
   "metadata": {
    "collapsed": false
   },
   "outputs": [],
   "source": [
    "img_bf_g_pass=np.copy(img_bf)\n",
    "\n",
    "img_bf_g_pass[img_bf_g_pass<70]=0\n",
    "\n",
    "\n",
    "\n",
    "cv2.imwrite('F196-BF-G-pass-70.jp2',img_bf_g_pass)"
   ]
  },
  {
   "cell_type": "code",
   "execution_count": null,
   "metadata": {
    "collapsed": false
   },
   "outputs": [],
   "source": [
    "img_bf_g_pass[1000,1000,]"
   ]
  },
  {
   "cell_type": "code",
   "execution_count": null,
   "metadata": {
    "collapsed": false
   },
   "outputs": [],
   "source": [
    "img_bf_g_pass==img_bf"
   ]
  },
  {
   "cell_type": "code",
   "execution_count": null,
   "metadata": {
    "collapsed": true
   },
   "outputs": [],
   "source": []
  }
 ],
 "metadata": {
  "kernelspec": {
   "display_name": "Python 2",
   "language": "python",
   "name": "python2"
  },
  "language_info": {
   "codemirror_mode": {
    "name": "ipython",
    "version": 2
   },
   "file_extension": ".py",
   "mimetype": "text/x-python",
   "name": "python",
   "nbconvert_exporter": "python",
   "pygments_lexer": "ipython2",
   "version": "2.7.13"
  }
 },
 "nbformat": 4,
 "nbformat_minor": 2
}
